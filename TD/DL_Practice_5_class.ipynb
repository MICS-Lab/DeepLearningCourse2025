{
 "cells": [
  {
   "cell_type": "markdown",
   "metadata": {},
   "source": [
    "# Dense vs Convolutional Neural Networks\n"
   ]
  },
  {
   "cell_type": "code",
   "execution_count": 1,
   "metadata": {},
   "outputs": [
    {
     "name": "stdout",
     "output_type": "stream",
     "text": [
      "cpu\n"
     ]
    }
   ],
   "source": [
    "import os\n",
    "import torch\n",
    "import torch.nn as nn\n",
    "import torch.nn.functional as F\n",
    "import torch.optim as optim\n",
    "import torchvision\n",
    "import torchvision.transforms as transforms\n",
    "import pandas as pd\n",
    "import matplotlib.pyplot as plt\n",
    "\n",
    "torch.random.manual_seed(0)\n",
    "\n",
    "device = torch.device(\"cuda:0\" if torch.cuda.is_available() else \"cpu\")\n",
    "print(device)\n"
   ]
  },
  {
   "cell_type": "markdown",
   "metadata": {},
   "source": [
    "Link to the data:\n",
    "https://drive.google.com/file/d/1j9QSpZHua5KP_Bw2iP8CD9c0ewjHYobQ/view?usp=sharing\n",
    "\n",
    "_(this is a subset of \"skin-cancer-mnist-ham10000\")_\n"
   ]
  },
  {
   "cell_type": "markdown",
   "metadata": {},
   "source": [
    "Read the CSV file and display the first few rows of the data."
   ]
  },
  {
   "cell_type": "code",
   "execution_count": 4,
   "metadata": {},
   "outputs": [
    {
     "data": {
      "text/plain": [
       "'c:\\\\Users\\\\PaulDubois\\\\Documents\\\\Pro\\\\DeepLearningCourse2025'"
      ]
     },
     "execution_count": 4,
     "metadata": {},
     "output_type": "execute_result"
    }
   ],
   "source": [
    "os.listdir()\n",
    "os.getcwd()\n",
    "os.chdir('..')\n",
    "os.getcwd()"
   ]
  },
  {
   "cell_type": "code",
   "execution_count": 7,
   "metadata": {},
   "outputs": [
    {
     "data": {
      "text/plain": [
       "['bcc', 'bkl', 'mel', 'metadata.csv', 'nv']"
      ]
     },
     "execution_count": 7,
     "metadata": {},
     "output_type": "execute_result"
    }
   ],
   "source": [
    "os.listdir('data/HAM2000')\n"
   ]
  },
  {
   "cell_type": "code",
   "execution_count": 9,
   "metadata": {},
   "outputs": [
    {
     "data": {
      "text/html": [
       "<div>\n",
       "<style scoped>\n",
       "    .dataframe tbody tr th:only-of-type {\n",
       "        vertical-align: middle;\n",
       "    }\n",
       "\n",
       "    .dataframe tbody tr th {\n",
       "        vertical-align: top;\n",
       "    }\n",
       "\n",
       "    .dataframe thead th {\n",
       "        text-align: right;\n",
       "    }\n",
       "</style>\n",
       "<table border=\"1\" class=\"dataframe\">\n",
       "  <thead>\n",
       "    <tr style=\"text-align: right;\">\n",
       "      <th></th>\n",
       "      <th>lesion_id</th>\n",
       "      <th>image_id</th>\n",
       "      <th>dx</th>\n",
       "      <th>dx_type</th>\n",
       "      <th>age</th>\n",
       "      <th>sex</th>\n",
       "      <th>localization</th>\n",
       "    </tr>\n",
       "  </thead>\n",
       "  <tbody>\n",
       "    <tr>\n",
       "      <th>0</th>\n",
       "      <td>HAM_0006518</td>\n",
       "      <td>ISIC_0027618</td>\n",
       "      <td>nv</td>\n",
       "      <td>follow_up</td>\n",
       "      <td>35.0</td>\n",
       "      <td>male</td>\n",
       "      <td>back</td>\n",
       "    </tr>\n",
       "    <tr>\n",
       "      <th>1</th>\n",
       "      <td>HAM_0004666</td>\n",
       "      <td>ISIC_0029165</td>\n",
       "      <td>nv</td>\n",
       "      <td>follow_up</td>\n",
       "      <td>55.0</td>\n",
       "      <td>male</td>\n",
       "      <td>upper extremity</td>\n",
       "    </tr>\n",
       "    <tr>\n",
       "      <th>2</th>\n",
       "      <td>HAM_0006455</td>\n",
       "      <td>ISIC_0029690</td>\n",
       "      <td>nv</td>\n",
       "      <td>follow_up</td>\n",
       "      <td>50.0</td>\n",
       "      <td>male</td>\n",
       "      <td>lower extremity</td>\n",
       "    </tr>\n",
       "    <tr>\n",
       "      <th>3</th>\n",
       "      <td>HAM_0003653</td>\n",
       "      <td>ISIC_0030139</td>\n",
       "      <td>nv</td>\n",
       "      <td>histo</td>\n",
       "      <td>45.0</td>\n",
       "      <td>male</td>\n",
       "      <td>back</td>\n",
       "    </tr>\n",
       "    <tr>\n",
       "      <th>4</th>\n",
       "      <td>HAM_0001330</td>\n",
       "      <td>ISIC_0026818</td>\n",
       "      <td>nv</td>\n",
       "      <td>histo</td>\n",
       "      <td>20.0</td>\n",
       "      <td>female</td>\n",
       "      <td>abdomen</td>\n",
       "    </tr>\n",
       "  </tbody>\n",
       "</table>\n",
       "</div>"
      ],
      "text/plain": [
       "     lesion_id      image_id  dx    dx_type   age     sex     localization\n",
       "0  HAM_0006518  ISIC_0027618  nv  follow_up  35.0    male             back\n",
       "1  HAM_0004666  ISIC_0029165  nv  follow_up  55.0    male  upper extremity\n",
       "2  HAM_0006455  ISIC_0029690  nv  follow_up  50.0    male  lower extremity\n",
       "3  HAM_0003653  ISIC_0030139  nv      histo  45.0    male             back\n",
       "4  HAM_0001330  ISIC_0026818  nv      histo  20.0  female          abdomen"
      ]
     },
     "execution_count": 9,
     "metadata": {},
     "output_type": "execute_result"
    }
   ],
   "source": [
    "df = pd.read_csv('data/HAM2000/metadata.csv')\n",
    "df.head()"
   ]
  },
  {
   "cell_type": "code",
   "execution_count": 13,
   "metadata": {},
   "outputs": [
    {
     "data": {
      "text/plain": [
       "array(['nv', 'mel', 'bcc', 'bkl'], dtype=object)"
      ]
     },
     "execution_count": 13,
     "metadata": {},
     "output_type": "execute_result"
    }
   ],
   "source": [
    "df.dx.unique()"
   ]
  },
  {
   "cell_type": "markdown",
   "metadata": {},
   "source": [
    "Create a dataset with a transformation to resize the images to 64x64 pixels.\n",
    "\n",
    "Add data augmentation (random horizontal/vertical flip) to the dataset."
   ]
  },
  {
   "cell_type": "code",
   "execution_count": 48,
   "metadata": {},
   "outputs": [
    {
     "data": {
      "text/plain": [
       "torch.Size([3, 64, 64])"
      ]
     },
     "execution_count": 48,
     "metadata": {},
     "output_type": "execute_result"
    }
   ],
   "source": [
    "transfo = transforms.Compose([\n",
    "    transforms.Resize( (64, 64)),\n",
    "    transforms.RandomHorizontalFlip(),\n",
    "    transforms.RandomVerticalFlip(),\n",
    "    transforms.ToTensor()\n",
    "])\n",
    "\n",
    "dataset = torchvision.datasets.ImageFolder(root='data/HAM2000', transform=transfo)\n",
    "class_names = dataset.find_classes('data/HAM2000')[0]\n",
    "dataset[0][0].shape"
   ]
  },
  {
   "cell_type": "code",
   "execution_count": 105,
   "metadata": {},
   "outputs": [
    {
     "data": {
      "text/plain": [
       "{'bcc': 0, 'bkl': 1, 'mel': 2, 'nv': 3}"
      ]
     },
     "execution_count": 105,
     "metadata": {},
     "output_type": "execute_result"
    }
   ],
   "source": [
    "class_number = dataset.find_classes('data/HAM2000')[1]\n",
    "class_number"
   ]
  },
  {
   "cell_type": "code",
   "execution_count": 47,
   "metadata": {},
   "outputs": [
    {
     "data": {
      "text/plain": [
       "['bcc', 'bkl', 'mel', 'nv']"
      ]
     },
     "execution_count": 47,
     "metadata": {},
     "output_type": "execute_result"
    }
   ],
   "source": [
    "class_names"
   ]
  },
  {
   "cell_type": "markdown",
   "metadata": {},
   "source": [
    "Split the dataset into training and test sets.\n",
    "\n",
    "Create dataloaders for the training and test sets."
   ]
  },
  {
   "cell_type": "code",
   "execution_count": 53,
   "metadata": {},
   "outputs": [],
   "source": [
    "train_set, test_set = torch.utils.data.random_split(dataset,\n",
    "                                                    [int(0.7*len(dataset)),int(0.3*len(dataset))]\n",
    "                                                    )\n",
    "train_dataloader = torch.utils.data.DataLoader(\n",
    "    dataset=train_set,\n",
    "    batch_size=64,\n",
    "    shuffle=True\n",
    ")\n",
    "\n",
    "test_dataloader = torch.utils.data.DataLoader(\n",
    "    dataset=test_set,\n",
    "    batch_size=64,\n",
    "    shuffle=False\n",
    ")"
   ]
  },
  {
   "cell_type": "code",
   "execution_count": 60,
   "metadata": {},
   "outputs": [
    {
     "data": {
      "text/plain": [
       "Text(0.5, 1.0, 'bcc')"
      ]
     },
     "execution_count": 60,
     "metadata": {},
     "output_type": "execute_result"
    },
    {
     "data": {
      "image/png": "[encoded data removed]",
      "text/plain": [
       "<Figure size 640x480 with 1 Axes>"
      ]
     },
     "metadata": {},
     "output_type": "display_data"
    }
   ],
   "source": [
    "dataset[0][0]\n",
    "plt.imshow(dataset[0][0].permute(1,2,0))\n",
    "plt.title(f'{class_names[dataset[0][1]]}')"
   ]
  },
  {
   "cell_type": "markdown",
   "metadata": {},
   "source": [
    "### Linear Model\n",
    "\n",
    "Create a linear model with two hidden layer."
   ]
  },
  {
   "cell_type": "code",
   "execution_count": 68,
   "metadata": {},
   "outputs": [
    {
     "name": "stdout",
     "output_type": "stream",
     "text": [
      "args: (1, 'ba')\n",
      "kwargs: {'arg1': 4, 'arg2': 'av', 'testing': 2.5}\n"
     ]
    },
    {
     "data": {
      "text/plain": [
       "<__main__.Test at 0x27e3a725dd0>"
      ]
     },
     "execution_count": 68,
     "metadata": {},
     "output_type": "execute_result"
    }
   ],
   "source": [
    "class Test(object):\n",
    "    def __init__(self, *args, **kwargs):\n",
    "        print(\"args:\", args)\n",
    "        print(\"kwargs:\", kwargs)\n",
    "\n",
    "t = Test(1, 'ba', arg1=4, arg2=\"av\", testing=2.5)\n",
    "t"
   ]
  },
  {
   "cell_type": "code",
   "execution_count": 70,
   "metadata": {},
   "outputs": [],
   "source": [
    "class linearNN(nn.Module):\n",
    "    def __init__(self):\n",
    "        super().__init__()\n",
    "        self.fc0 = nn.Linear(64*64*3,200)\n",
    "        self.fc1 = nn.Linear(200,100)\n",
    "        self.fc2 = nn.Linear(100,4)\n",
    "\n",
    "    def forward(self,x):\n",
    "        x = x.view(-1, 3*64*64)\n",
    "        l1 = nn.ReLU()(self.fc0(x))\n",
    "        l2= nn.ReLU()(self.fc1(l1))\n",
    "        y= nn.Softmax(dim=1)(self.fc2(l2))\n",
    "        return y\n"
   ]
  },
  {
   "cell_type": "markdown",
   "metadata": {},
   "source": [
    "Create a loss function and an optimizer."
   ]
  },
  {
   "cell_type": "code",
   "execution_count": 72,
   "metadata": {},
   "outputs": [],
   "source": [
    "model = linearNN()\n",
    "optimizer = optim.Adam(model.parameters(), lr = 10**(-4))\n",
    "criterion = nn.CrossEntropyLoss()\n",
    "\n",
    "\n"
   ]
  },
  {
   "cell_type": "markdown",
   "metadata": {},
   "source": [
    "Write the training loop."
   ]
  },
  {
   "cell_type": "code",
   "execution_count": 74,
   "metadata": {},
   "outputs": [
    {
     "name": "stderr",
     "output_type": "stream",
     "text": [
      "C:\\Users\\PaulDubois\\AppData\\Local\\Temp\\ipykernel_14296\\130628223.py:12: UserWarning: Implicit dimension choice for softmax has been deprecated. Change the call to include dim=X as an argument.\n",
      "  y= nn.Softmax()(self.fc2(l2))\n"
     ]
    },
    {
     "name": "stdout",
     "output_type": "stream",
     "text": [
      "27.448557376861572 0.4785714285714286\n",
      "27.252655148506165 0.49857142857142855\n",
      "27.28230381011963 0.48642857142857143\n",
      "27.219918847084045 0.4878571428571429\n",
      "27.134632229804993 0.4907142857142857\n",
      "27.039032101631165 0.4957142857142857\n",
      "26.935754418373108 0.51\n",
      "26.936164617538452 0.49642857142857144\n",
      "26.95622730255127 0.49642857142857144\n",
      "26.80065655708313 0.5142857142857142\n"
     ]
    }
   ],
   "source": [
    "n_epochs = 10\n",
    "for nbr in range(n_epochs):\n",
    "    total_loss_epoch: float =0\n",
    "    total_correct = 0\n",
    "    for X_train, y_train in train_dataloader:\n",
    "        optimizer.zero_grad()\n",
    "        output = model(X_train)\n",
    "        total_correct += (output.argmax(axis=1) == y_train).sum().item()\n",
    "        loss = criterion(output, y_train)\n",
    "        total_loss_epoch += loss.item()\n",
    "        loss.backward()\n",
    "        optimizer.step()\n",
    "    print(total_loss_epoch, total_correct/(0.7*len(dataset)))\n"
   ]
  },
  {
   "cell_type": "markdown",
   "metadata": {},
   "source": [
    "Plot the loss and accuracy through epochs."
   ]
  },
  {
   "cell_type": "code",
   "execution_count": null,
   "metadata": {},
   "outputs": [],
   "source": []
  },
  {
   "cell_type": "markdown",
   "metadata": {},
   "source": [
    "Test the model on a few images of the test set."
   ]
  },
  {
   "cell_type": "code",
   "execution_count": null,
   "metadata": {},
   "outputs": [],
   "source": []
  },
  {
   "cell_type": "markdown",
   "metadata": {},
   "source": [
    "Compute the accuracy of the model on the test set."
   ]
  },
  {
   "cell_type": "code",
   "execution_count": null,
   "metadata": {},
   "outputs": [],
   "source": []
  },
  {
   "cell_type": "markdown",
   "metadata": {},
   "source": [
    "### Conv Model\n",
    "\n",
    "Create a convolutional model with a few convolutional layers and two linear layers (for the classification)."
   ]
  },
  {
   "cell_type": "code",
   "execution_count": null,
   "metadata": {},
   "outputs": [],
   "source": [
    "# torch.randn(3, 64,64))"
   ]
  },
  {
   "cell_type": "code",
   "execution_count": 80,
   "metadata": {},
   "outputs": [
    {
     "data": {
      "text/plain": [
       "torch.Size([1, 54, 54])"
      ]
     },
     "execution_count": 80,
     "metadata": {},
     "output_type": "execute_result"
    }
   ],
   "source": [
    "nn.Conv2d(3,1,11)(torch.randn(3, 64,64)).shape"
   ]
  },
  {
   "cell_type": "code",
   "execution_count": 85,
   "metadata": {},
   "outputs": [
    {
     "data": {
      "text/plain": [
       "tensor([[0.2506, 0.2430, 0.2661, 0.2404]], grad_fn=<SoftmaxBackward0>)"
      ]
     },
     "execution_count": 85,
     "metadata": {},
     "output_type": "execute_result"
    }
   ],
   "source": [
    "class convoluNN(nn.Module):\n",
    "    def __init__(self):\n",
    "        super().__init__()\n",
    "        self.conv1 = nn.Conv2d(3,6,11)\n",
    "        self.conv2 = nn.Conv2d(6,10,9)\n",
    "        self.conv3 = nn.Conv2d(10,14,7)\n",
    "        self.fc1 = nn.Linear(40*40*14,4)\n",
    "\n",
    "    def forward(self, x):\n",
    "        x = nn.ReLU()(self.conv1(x))\n",
    "        x = nn.ReLU()(self.conv2(x))\n",
    "        x = nn.ReLU()(self.conv3(x))\n",
    "        x = x.view(-1, 14*40*40)\n",
    "        y = nn.Softmax(dim=1)(self.fc1(x))\n",
    "        # print(y.shape)\n",
    "        return y\n",
    "\n",
    "m = convoluNN()\n",
    "m(torch.randn(3, 64,64))"
   ]
  },
  {
   "cell_type": "markdown",
   "metadata": {},
   "source": [
    "Create a loss function and an optimizer."
   ]
  },
  {
   "cell_type": "code",
   "execution_count": 86,
   "metadata": {},
   "outputs": [],
   "source": [
    "model = convoluNN(\n",
    "\n",
    ")\n",
    "optimizer = optim.Adam(model.parameters(),lr = 10**(-4))\n",
    "criterion = nn.CrossEntropyLoss()"
   ]
  },
  {
   "cell_type": "markdown",
   "metadata": {},
   "source": [
    "Write the training loop."
   ]
  },
  {
   "cell_type": "code",
   "execution_count": 87,
   "metadata": {},
   "outputs": [
    {
     "name": "stdout",
     "output_type": "stream",
     "text": [
      "30.39714241027832\n",
      "29.692395567893982\n",
      "28.555655479431152\n",
      "27.89175045490265\n",
      "27.589106559753418\n",
      "27.404749035835266\n",
      "27.207316875457764\n",
      "27.0980943441391\n",
      "26.912716150283813\n",
      "26.816359877586365\n"
     ]
    }
   ],
   "source": [
    "n_epochs = 10\n",
    "for epoch in range(n_epochs):\n",
    "    total_loss_epochs: float = 0\n",
    "    for X_train,y_train in train_dataloader:\n",
    "        output = model(X_train)\n",
    "        optimizer.zero_grad()\n",
    "        loss = criterion(output,y_train)\n",
    "        total_loss_epochs += loss.item()\n",
    "        loss.backward()\n",
    "        optimizer.step()\n",
    "    print(total_loss_epochs)"
   ]
  },
  {
   "cell_type": "code",
   "execution_count": 94,
   "metadata": {},
   "outputs": [
    {
     "name": "stdout",
     "output_type": "stream",
     "text": [
      "2478304\n"
     ]
    }
   ],
   "source": [
    "m = linearNN()\n",
    "total = 0\n",
    "for param in m.parameters():\n",
    "    c = 1\n",
    "    for a in list(param.shape):\n",
    "        c *= a\n",
    "    total += c\n",
    "print(total)\n"
   ]
  },
  {
   "cell_type": "code",
   "execution_count": 93,
   "metadata": {},
   "outputs": [
    {
     "name": "stdout",
     "output_type": "stream",
     "text": [
      "103532\n"
     ]
    }
   ],
   "source": [
    "total = 0\n",
    "for param in model.parameters():\n",
    "    c = 1\n",
    "    for a in list(param.shape):\n",
    "        c *= a\n",
    "    total += c\n",
    "print(total)\n"
   ]
  },
  {
   "cell_type": "markdown",
   "metadata": {},
   "source": [
    "Plot the loss and accuracy through epochs."
   ]
  },
  {
   "cell_type": "code",
   "execution_count": null,
   "metadata": {},
   "outputs": [],
   "source": []
  },
  {
   "cell_type": "markdown",
   "metadata": {},
   "source": [
    "Test the model on a few images of the test set."
   ]
  },
  {
   "cell_type": "code",
   "execution_count": null,
   "metadata": {},
   "outputs": [],
   "source": []
  },
  {
   "cell_type": "markdown",
   "metadata": {},
   "source": [
    "Compute the accuracy of the model on the test set."
   ]
  },
  {
   "cell_type": "code",
   "execution_count": null,
   "metadata": {},
   "outputs": [],
   "source": []
  },
  {
   "cell_type": "markdown",
   "metadata": {},
   "source": [
    "Compare the training time and accuracy of the two models."
   ]
  },
  {
   "cell_type": "markdown",
   "metadata": {},
   "source": [
    "-----"
   ]
  },
  {
   "cell_type": "markdown",
   "metadata": {},
   "source": [
    "BONUS: Create a custom dataset and return the image, the class, and some tabular data from the CSV file.\n",
    "\n",
    "You may use the 'bis' version of the dataset for this task: https://drive.google.com/file/d/1YIcfChTKgDHyr4XMaxuCFYWtRVo_fNbN/view?usp=sharing"
   ]
  },
  {
   "cell_type": "code",
   "execution_count": 102,
   "metadata": {},
   "outputs": [
    {
     "data": {
      "text/html": [
       "<div>\n",
       "<style scoped>\n",
       "    .dataframe tbody tr th:only-of-type {\n",
       "        vertical-align: middle;\n",
       "    }\n",
       "\n",
       "    .dataframe tbody tr th {\n",
       "        vertical-align: top;\n",
       "    }\n",
       "\n",
       "    .dataframe thead th {\n",
       "        text-align: right;\n",
       "    }\n",
       "</style>\n",
       "<table border=\"1\" class=\"dataframe\">\n",
       "  <thead>\n",
       "    <tr style=\"text-align: right;\">\n",
       "      <th></th>\n",
       "      <th>lesion_id</th>\n",
       "      <th>image_id</th>\n",
       "      <th>dx</th>\n",
       "      <th>dx_type</th>\n",
       "      <th>age</th>\n",
       "      <th>sex</th>\n",
       "      <th>localization</th>\n",
       "    </tr>\n",
       "  </thead>\n",
       "  <tbody>\n",
       "    <tr>\n",
       "      <th>0</th>\n",
       "      <td>HAM_0006518</td>\n",
       "      <td>ISIC_0027618</td>\n",
       "      <td>nv</td>\n",
       "      <td>follow_up</td>\n",
       "      <td>35.0</td>\n",
       "      <td>male</td>\n",
       "      <td>back</td>\n",
       "    </tr>\n",
       "    <tr>\n",
       "      <th>1</th>\n",
       "      <td>HAM_0004666</td>\n",
       "      <td>ISIC_0029165</td>\n",
       "      <td>nv</td>\n",
       "      <td>follow_up</td>\n",
       "      <td>55.0</td>\n",
       "      <td>male</td>\n",
       "      <td>upper extremity</td>\n",
       "    </tr>\n",
       "    <tr>\n",
       "      <th>2</th>\n",
       "      <td>HAM_0006455</td>\n",
       "      <td>ISIC_0029690</td>\n",
       "      <td>nv</td>\n",
       "      <td>follow_up</td>\n",
       "      <td>50.0</td>\n",
       "      <td>male</td>\n",
       "      <td>lower extremity</td>\n",
       "    </tr>\n",
       "    <tr>\n",
       "      <th>3</th>\n",
       "      <td>HAM_0003653</td>\n",
       "      <td>ISIC_0030139</td>\n",
       "      <td>nv</td>\n",
       "      <td>histo</td>\n",
       "      <td>45.0</td>\n",
       "      <td>male</td>\n",
       "      <td>back</td>\n",
       "    </tr>\n",
       "    <tr>\n",
       "      <th>4</th>\n",
       "      <td>HAM_0001330</td>\n",
       "      <td>ISIC_0026818</td>\n",
       "      <td>nv</td>\n",
       "      <td>histo</td>\n",
       "      <td>20.0</td>\n",
       "      <td>female</td>\n",
       "      <td>abdomen</td>\n",
       "    </tr>\n",
       "    <tr>\n",
       "      <th>...</th>\n",
       "      <td>...</td>\n",
       "      <td>...</td>\n",
       "      <td>...</td>\n",
       "      <td>...</td>\n",
       "      <td>...</td>\n",
       "      <td>...</td>\n",
       "      <td>...</td>\n",
       "    </tr>\n",
       "    <tr>\n",
       "      <th>1995</th>\n",
       "      <td>HAM_0000933</td>\n",
       "      <td>ISIC_0024358</td>\n",
       "      <td>bkl</td>\n",
       "      <td>histo</td>\n",
       "      <td>60.0</td>\n",
       "      <td>female</td>\n",
       "      <td>back</td>\n",
       "    </tr>\n",
       "    <tr>\n",
       "      <th>1996</th>\n",
       "      <td>HAM_0004673</td>\n",
       "      <td>ISIC_0029418</td>\n",
       "      <td>bkl</td>\n",
       "      <td>histo</td>\n",
       "      <td>50.0</td>\n",
       "      <td>male</td>\n",
       "      <td>back</td>\n",
       "    </tr>\n",
       "    <tr>\n",
       "      <th>1997</th>\n",
       "      <td>HAM_0000983</td>\n",
       "      <td>ISIC_0033490</td>\n",
       "      <td>bkl</td>\n",
       "      <td>consensus</td>\n",
       "      <td>NaN</td>\n",
       "      <td>unknown</td>\n",
       "      <td>unknown</td>\n",
       "    </tr>\n",
       "    <tr>\n",
       "      <th>1998</th>\n",
       "      <td>HAM_0004494</td>\n",
       "      <td>ISIC_0031459</td>\n",
       "      <td>bkl</td>\n",
       "      <td>histo</td>\n",
       "      <td>60.0</td>\n",
       "      <td>female</td>\n",
       "      <td>neck</td>\n",
       "    </tr>\n",
       "    <tr>\n",
       "      <th>1999</th>\n",
       "      <td>HAM_0006018</td>\n",
       "      <td>ISIC_0033642</td>\n",
       "      <td>bkl</td>\n",
       "      <td>histo</td>\n",
       "      <td>75.0</td>\n",
       "      <td>male</td>\n",
       "      <td>trunk</td>\n",
       "    </tr>\n",
       "  </tbody>\n",
       "</table>\n",
       "<p>2000 rows × 7 columns</p>\n",
       "</div>"
      ],
      "text/plain": [
       "        lesion_id      image_id   dx    dx_type   age      sex  \\\n",
       "0     HAM_0006518  ISIC_0027618   nv  follow_up  35.0     male   \n",
       "1     HAM_0004666  ISIC_0029165   nv  follow_up  55.0     male   \n",
       "2     HAM_0006455  ISIC_0029690   nv  follow_up  50.0     male   \n",
       "3     HAM_0003653  ISIC_0030139   nv      histo  45.0     male   \n",
       "4     HAM_0001330  ISIC_0026818   nv      histo  20.0   female   \n",
       "...           ...           ...  ...        ...   ...      ...   \n",
       "1995  HAM_0000933  ISIC_0024358  bkl      histo  60.0   female   \n",
       "1996  HAM_0004673  ISIC_0029418  bkl      histo  50.0     male   \n",
       "1997  HAM_0000983  ISIC_0033490  bkl  consensus   NaN  unknown   \n",
       "1998  HAM_0004494  ISIC_0031459  bkl      histo  60.0   female   \n",
       "1999  HAM_0006018  ISIC_0033642  bkl      histo  75.0     male   \n",
       "\n",
       "         localization  \n",
       "0                back  \n",
       "1     upper extremity  \n",
       "2     lower extremity  \n",
       "3                back  \n",
       "4             abdomen  \n",
       "...               ...  \n",
       "1995             back  \n",
       "1996             back  \n",
       "1997          unknown  \n",
       "1998             neck  \n",
       "1999            trunk  \n",
       "\n",
       "[2000 rows x 7 columns]"
      ]
     },
     "execution_count": 102,
     "metadata": {},
     "output_type": "execute_result"
    }
   ],
   "source": [
    "df = pd.read_csv('data/HAM2000bis/metadata.csv')\n",
    "df.columns\n",
    "df.image_id\n",
    "df['image_id'][2]\n",
    "df"
   ]
  },
  {
   "cell_type": "code",
   "execution_count": 120,
   "metadata": {},
   "outputs": [
    {
     "data": {
      "text/plain": [
       "'c:\\\\Users\\\\PaulDubois\\\\Documents\\\\Pro\\\\DeepLearningCourse2025'"
      ]
     },
     "execution_count": 120,
     "metadata": {},
     "output_type": "execute_result"
    }
   ],
   "source": [
    "os.getcwd()"
   ]
  },
  {
   "cell_type": "code",
   "execution_count": 128,
   "metadata": {},
   "outputs": [
    {
     "data": {
      "text/plain": [
       "(tensor([[[0.7373, 0.7412, 0.7490,  ..., 0.7686, 0.7569, 0.7451],\n",
       "          [0.7373, 0.7451, 0.7569,  ..., 0.7647, 0.7608, 0.7529],\n",
       "          [0.7451, 0.7451, 0.7490,  ..., 0.7686, 0.7647, 0.7529],\n",
       "          ...,\n",
       "          [0.7804, 0.7922, 0.8000,  ..., 0.8314, 0.8275, 0.8078],\n",
       "          [0.7922, 0.7882, 0.7961,  ..., 0.8275, 0.8196, 0.8157],\n",
       "          [0.8000, 0.7882, 0.8000,  ..., 0.8314, 0.8235, 0.8196]],\n",
       " \n",
       "         [[0.3765, 0.3765, 0.3961,  ..., 0.4667, 0.4549, 0.4549],\n",
       "          [0.3765, 0.3882, 0.4039,  ..., 0.4549, 0.4667, 0.4667],\n",
       "          [0.3922, 0.3882, 0.3882,  ..., 0.4588, 0.4706, 0.4627],\n",
       "          ...,\n",
       "          [0.4000, 0.4118, 0.4118,  ..., 0.4902, 0.4863, 0.4627],\n",
       "          [0.4196, 0.3961, 0.4000,  ..., 0.4863, 0.4706, 0.4627],\n",
       "          [0.4314, 0.3961, 0.4039,  ..., 0.4824, 0.4667, 0.4588]],\n",
       " \n",
       "         [[0.4235, 0.4235, 0.4392,  ..., 0.4588, 0.4431, 0.4392],\n",
       "          [0.4196, 0.4275, 0.4431,  ..., 0.4471, 0.4510, 0.4549],\n",
       "          [0.4353, 0.4314, 0.4353,  ..., 0.4471, 0.4588, 0.4431],\n",
       "          ...,\n",
       "          [0.4902, 0.4980, 0.4980,  ..., 0.5216, 0.5137, 0.4745],\n",
       "          [0.5059, 0.4941, 0.4941,  ..., 0.5216, 0.4980, 0.4902],\n",
       "          [0.5176, 0.4902, 0.4980,  ..., 0.5137, 0.4980, 0.5020]]]),\n",
       " 35.0,\n",
       " 'male',\n",
       " 3)"
      ]
     },
     "execution_count": 128,
     "metadata": {},
     "output_type": "execute_result"
    }
   ],
   "source": [
    "import torch.utils\n",
    "import torch.utils.data\n",
    "from PIL import Image\n",
    "\n",
    "class CustomData(torch.utils.data.Dataset):\n",
    "    def __init__(self, path, transfo=None):\n",
    "        self.path = path\n",
    "        self.df = pd.read_csv(path+'metadata.csv')\n",
    "        self.class_to_nb = {'bcc': 0, 'bkl': 1, 'mel': 2, 'nv': 3}\n",
    "        self.transfo = transfo\n",
    "    def __len__(self):\n",
    "        return len(self.df)\n",
    "    def __getitem__(self,i):\n",
    "        c = self.class_to_nb[self.df['dx'][i]]\n",
    "        age = self.df['age'][i]\n",
    "        sex = self.df['sex'][i]\n",
    "        img_name = self.df['image_id'][i]\n",
    "        im = Image.open(self.path+'images/'+img_name+'.jpg')\n",
    "        if self.transfo is not None:\n",
    "            im = self.transfo(im)\n",
    "        return im, age, sex, c\n",
    "\n",
    "transfo = transforms.Compose([\n",
    "    transforms.Resize( (64, 64)),\n",
    "    transforms.RandomHorizontalFlip(),\n",
    "    transforms.RandomVerticalFlip(),\n",
    "    transforms.ToTensor()\n",
    "])\n",
    "\n",
    "data = CustomData('data/HAM2000bis/', transfo=transfo)\n",
    "data[0]"
   ]
  },
  {
   "cell_type": "markdown",
   "metadata": {},
   "source": [
    "Create a model that uses the tabular data and the image to predict the class."
   ]
  },
  {
   "cell_type": "code",
   "execution_count": null,
   "metadata": {},
   "outputs": [],
   "source": [
    "\n"
   ]
  },
  {
   "cell_type": "markdown",
   "metadata": {},
   "source": [
    "Create a loss function and an optimizer."
   ]
  },
  {
   "cell_type": "code",
   "execution_count": null,
   "metadata": {},
   "outputs": [],
   "source": []
  },
  {
   "cell_type": "markdown",
   "metadata": {},
   "source": [
    "Write the training loop."
   ]
  },
  {
   "cell_type": "code",
   "execution_count": null,
   "metadata": {},
   "outputs": [],
   "source": []
  },
  {
   "cell_type": "markdown",
   "metadata": {},
   "source": [
    "Plot the loss and accuracy through epochs."
   ]
  },
  {
   "cell_type": "code",
   "execution_count": null,
   "metadata": {},
   "outputs": [],
   "source": []
  },
  {
   "cell_type": "markdown",
   "metadata": {},
   "source": [
    "Test the model on a few images of the test set."
   ]
  },
  {
   "cell_type": "code",
   "execution_count": null,
   "metadata": {},
   "outputs": [],
   "source": []
  },
  {
   "cell_type": "markdown",
   "metadata": {},
   "source": [
    "Compute the accuracy of the model on the test set."
   ]
  },
  {
   "cell_type": "code",
   "execution_count": null,
   "metadata": {},
   "outputs": [],
   "source": []
  }
 ],
 "metadata": {
  "kernelspec": {
   "display_name": "Python 3",
   "language": "python",
   "name": "python3"
  },
  "language_info": {
   "codemirror_mode": {
    "name": "ipython",
    "version": 3
   },
   "file_extension": ".py",
   "mimetype": "text/x-python",
   "name": "python",
   "nbconvert_exporter": "python",
   "pygments_lexer": "ipython3",
   "version": "3.11.4"
  },
  "orig_nbformat": 4
 },
 "nbformat": 4,
 "nbformat_minor": 2
}
