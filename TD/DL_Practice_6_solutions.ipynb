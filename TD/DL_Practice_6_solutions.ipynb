{
  "cells": [
    {
      "attachments": {},
      "cell_type": "markdown",
      "metadata": {
        "id": "ovDJUER3rFK4"
      },
      "source": [
        "# TD 6"
      ]
    },
    {
      "attachments": {},
      "cell_type": "markdown",
      "metadata": {
        "id": "wdmJfTThvBnc"
      },
      "source": [
        "[Use pytorch for all questions]"
      ]
    },
    {
      "cell_type": "code",
      "execution_count": 1,
      "metadata": {
        "id": "R9k-Z90ivZfW"
      },
      "outputs": [],
      "source": [
        "import torch\n",
        "import torch.nn as nn\n",
        "import torch.nn.functional as F\n",
        "import torch.optim as optim\n",
        "import numpy as np\n",
        "import pandas as pd\n",
        "import matplotlib.pyplot as plt\n",
        "import os\n",
        "import glob\n",
        "import time\n",
        "from torch.utils.data import DataLoader, Dataset\n",
        "\n",
        "os.chdir('..')"
      ]
    },
    {
      "attachments": {},
      "cell_type": "markdown",
      "metadata": {},
      "source": [
        "## RNN: Determinating Lastnames Origins"
      ]
    },
    {
      "attachments": {},
      "cell_type": "markdown",
      "metadata": {},
      "source": [
        "The goal here is to build our first (basic) RNN network."
      ]
    },
    {
      "attachments": {},
      "cell_type": "markdown",
      "metadata": {},
      "source": [
        "We have a datset composed of 18000 names, from 18 nationalities (1000 names from each country).\n",
        "We try to build a network to classify names to their correct nationality.\n",
        "We do that with a RNN, that \"reads\" each letter one by one."
      ]
    },
    {
      "attachments": {},
      "cell_type": "markdown",
      "metadata": {},
      "source": [
        "Link to the dataset *name_1000*, containing 1000 names from 18 nationalities:\n",
        "https://drive.google.com/file/d/11rs4p42cNpwdwS_-aFTbLio2zouUNH94/view?usp=sharing\n",
        "\n",
        "Start by downloading it and store it in your working directory."
      ]
    },
    {
      "attachments": {},
      "cell_type": "markdown",
      "metadata": {},
      "source": [
        "### Pre-processing"
      ]
    },
    {
      "attachments": {},
      "cell_type": "markdown",
      "metadata": {},
      "source": [
        "Some countries are using non-latin alphabet, we need the ASCII version.\n",
        "You can try the function `unidecode` from the `unidecode` mdule.\n",
        "\n",
        "Create a function that takes a name, and return its version using only letters from \n",
        "`LETTERS = 'abcdefghijklmnopqrstuvwxyzABCDEFGHIJKLMNOPQRSTUVWXYZ .,;'` (you can add some letters if you want, but the more you add, the more complex your network will become)."
      ]
    },
    {
      "attachments": {},
      "cell_type": "markdown",
      "metadata": {},
      "source": [
        "Test your function on `'Ślusàrski'`, `'François'`, `'北亰'`, `'Kožušček'`, and `'+-*/'`."
      ]
    },
    {
      "cell_type": "code",
      "execution_count": 2,
      "metadata": {},
      "outputs": [
        {
          "data": {
            "text/plain": [
              "('Slusarski', 'Francois', 'Bei Jing ', 'Kozuscek', '+-*/')"
            ]
          },
          "execution_count": 2,
          "metadata": {},
          "output_type": "execute_result"
        }
      ],
      "source": [
        "from unidecode import unidecode\n",
        "unidecode('Ślusàrski'), unidecode('François'), unidecode('北亰'), unidecode('Kožušček'), unidecode('+-*/')"
      ]
    },
    {
      "cell_type": "code",
      "execution_count": 3,
      "metadata": {},
      "outputs": [
        {
          "data": {
            "text/plain": [
              "('Slusarski', 'Francois', 'Bei Jing ', 'kozuscek', '-')"
            ]
          },
          "execution_count": 3,
          "metadata": {},
          "output_type": "execute_result"
        }
      ],
      "source": [
        "LETTERS = 'abcdefghijklmnopqrstuvwxyzABCDEFGHIJKLMNOPQRSTUVWXYZ -'\n",
        "N_LETTERS = len(LETTERS)\n",
        "\n",
        "def unicodeToAscii(s):\n",
        "    return ''.join(c for c in unidecode(s) if c in LETTERS)\n",
        "\n",
        "unicodeToAscii('Ślusàrski'), unicodeToAscii('François'), unicodeToAscii('北亰'), unicodeToAscii('kožušček'), unicodeToAscii('+-*/')"
      ]
    },
    {
      "attachments": {},
      "cell_type": "markdown",
      "metadata": {},
      "source": [
        "### Feeding letters to a network"
      ]
    },
    {
      "attachments": {},
      "cell_type": "markdown",
      "metadata": {},
      "source": [
        "A network can not, originally, process characters/letters; networks can only understand numbers, and list of numbers.\n",
        "We need to turn our characters to a vector. We could just take the binary byte representing the character in the ASCII. However, this would be very hard for the network to understand (`x: 1011000`,s `y:1011001` and `z: 1011010` will have very similar activations).\n",
        "Thus, we will use 'one-hot encoding' of our set of letters `LETTERS`. That is, we transform each letter to a tensor of size `<1xN_LETTERS>`, where all entries are zero except the one corresponding to the position of the letter, that we set to one.\n",
        "e.g.:\n",
        "- `a => [1, 0, 0, 0, ..., 0]`\n",
        "- `b => [0, 1, 0, 0, ..., 0]`\n",
        "- `c => [0, 0, 1, 0, ..., 0]`\n",
        "\n",
        "Define a `letterToTensor` function that perfoms this operation."
      ]
    },
    {
      "cell_type": "code",
      "execution_count": 4,
      "metadata": {},
      "outputs": [
        {
          "data": {
            "text/plain": [
              "(tensor([[1., 0., 0., 0., 0., 0., 0., 0., 0., 0., 0., 0., 0., 0., 0., 0., 0., 0.,\n",
              "          0., 0., 0., 0., 0., 0., 0., 0., 0., 0., 0., 0., 0., 0., 0., 0., 0., 0.,\n",
              "          0., 0., 0., 0., 0., 0., 0., 0., 0., 0., 0., 0., 0., 0., 0., 0., 0., 0.]]),\n",
              " tensor([[0., 1., 0., 0., 0., 0., 0., 0., 0., 0., 0., 0., 0., 0., 0., 0., 0., 0.,\n",
              "          0., 0., 0., 0., 0., 0., 0., 0., 0., 0., 0., 0., 0., 0., 0., 0., 0., 0.,\n",
              "          0., 0., 0., 0., 0., 0., 0., 0., 0., 0., 0., 0., 0., 0., 0., 0., 0., 0.]]),\n",
              " tensor([[0., 0., 1., 0., 0., 0., 0., 0., 0., 0., 0., 0., 0., 0., 0., 0., 0., 0.,\n",
              "          0., 0., 0., 0., 0., 0., 0., 0., 0., 0., 0., 0., 0., 0., 0., 0., 0., 0.,\n",
              "          0., 0., 0., 0., 0., 0., 0., 0., 0., 0., 0., 0., 0., 0., 0., 0., 0., 0.]]))"
            ]
          },
          "execution_count": 4,
          "metadata": {},
          "output_type": "execute_result"
        }
      ],
      "source": [
        "# Turn a letter into a <1 x n_letters> tensor\n",
        "def letterToTensor(letter):\n",
        "    tensor = torch.zeros(1, N_LETTERS)\n",
        "    tensor[0][LETTERS.find(letter)] = 1\n",
        "    return tensor\n",
        "\n",
        "letterToTensor('a'), letterToTensor('b'), letterToTensor('c')"
      ]
    },
    {
      "attachments": {},
      "cell_type": "markdown",
      "metadata": {},
      "source": [
        "Now define a `nameToTensor` function that perfoms this operation for each letter in the name (resulting to a `<name_length x 1 x N_LETTERS>` tensor)."
      ]
    },
    {
      "cell_type": "code",
      "execution_count": 5,
      "metadata": {},
      "outputs": [
        {
          "data": {
            "text/plain": [
              "(tensor([[[1., 0., 0., 0., 0., 0., 0., 0., 0., 0., 0., 0., 0., 0., 0., 0., 0.,\n",
              "           0., 0., 0., 0., 0., 0., 0., 0., 0., 0., 0., 0., 0., 0., 0., 0., 0.,\n",
              "           0., 0., 0., 0., 0., 0., 0., 0., 0., 0., 0., 0., 0., 0., 0., 0., 0.,\n",
              "           0., 0., 0.]],\n",
              " \n",
              "         [[0., 1., 0., 0., 0., 0., 0., 0., 0., 0., 0., 0., 0., 0., 0., 0., 0.,\n",
              "           0., 0., 0., 0., 0., 0., 0., 0., 0., 0., 0., 0., 0., 0., 0., 0., 0.,\n",
              "           0., 0., 0., 0., 0., 0., 0., 0., 0., 0., 0., 0., 0., 0., 0., 0., 0.,\n",
              "           0., 0., 0.]],\n",
              " \n",
              "         [[0., 0., 1., 0., 0., 0., 0., 0., 0., 0., 0., 0., 0., 0., 0., 0., 0.,\n",
              "           0., 0., 0., 0., 0., 0., 0., 0., 0., 0., 0., 0., 0., 0., 0., 0., 0.,\n",
              "           0., 0., 0., 0., 0., 0., 0., 0., 0., 0., 0., 0., 0., 0., 0., 0., 0.,\n",
              "           0., 0., 0.]]]),\n",
              " torch.Size([3, 1, 54]))"
            ]
          },
          "execution_count": 5,
          "metadata": {},
          "output_type": "execute_result"
        }
      ],
      "source": [
        "# Turn a name into a <name_length x 1 x N_LETTERS> tensor\n",
        "def nameToTensor(name):\n",
        "    tensor = torch.zeros(len(name), 1, N_LETTERS)\n",
        "    for li, letter in enumerate(name):\n",
        "        tensor[li][0][LETTERS.find(letter)] = 1\n",
        "    return tensor\n",
        "\n",
        "nameToTensor('abc'), nameToTensor('abc').shape"
      ]
    },
    {
      "attachments": {},
      "cell_type": "markdown",
      "metadata": {},
      "source": [
        "Create a custom dataset:\n",
        "- in the `__init__`, read all files, and create a list of names and associated country\n",
        "- add a `countryID` method that turns a country its index\n",
        "- add a `countryTensor` method that turns a country to a one-hot encoded tensor\n",
        "- the `__getitem__` should return one piece of data in the form `(name, country, nameTensor, countryID)`"
      ]
    },
    {
      "attachments": {},
      "cell_type": "markdown",
      "metadata": {},
      "source": [
        "### Loading data"
      ]
    },
    {
      "cell_type": "code",
      "execution_count": 7,
      "metadata": {},
      "outputs": [
        {
          "data": {
            "text/plain": [
              "['.git',\n",
              " '.gitignore',\n",
              " 'data',\n",
              " 'DCE',\n",
              " 'EDT HSB 2024-2025 rev16.xls',\n",
              " 'Extra',\n",
              " 'Planning DL&NLP.xls',\n",
              " 'pretrained_models',\n",
              " 'README.md',\n",
              " 'Slides',\n",
              " 'TD']"
            ]
          },
          "execution_count": 7,
          "metadata": {},
          "output_type": "execute_result"
        }
      ],
      "source": [
        "os.listdir()"
      ]
    },
    {
      "cell_type": "code",
      "execution_count": 8,
      "metadata": {},
      "outputs": [
        {
          "name": "stdout",
          "output_type": "stream",
          "text": [
            "Loaded 18000 names from 18 countries\n"
          ]
        },
        {
          "data": {
            "text/plain": [
              "('Handal', 'Arabic', torch.Size([6, 1, 54]), tensor(0))"
            ]
          },
          "execution_count": 8,
          "metadata": {},
          "output_type": "execute_result"
        }
      ],
      "source": [
        "class NamesDataset(Dataset):\n",
        "    def __init__(self, filenames='names/*.txt'):\n",
        "        #read data\n",
        "        self.names = []\n",
        "        self.countries = []\n",
        "        self.country_to_idx = {}\n",
        "        self.idx_to_country = []\n",
        "        for filename in glob.glob(filenames):\n",
        "            country = os.path.splitext(os.path.basename(filename))[0]\n",
        "            self.country_to_idx[country] = len(self.country_to_idx)\n",
        "            self.idx_to_country.append(country)\n",
        "            lines = open(filename, encoding='utf-8').read().strip().split('\\n')\n",
        "            for line in lines:\n",
        "                self.names.append(unicodeToAscii(line))\n",
        "                self.countries.append(country)\n",
        "        self.n = len(self.names)\n",
        "        self.n_countries = len(self.country_to_idx)\n",
        "        print(f'Loaded {self.n} names from {self.n_countries} countries')\n",
        "    \n",
        "    def countryTensor(self, index):\n",
        "        tensor = torch.zeros(1, self.n_countries)\n",
        "        tensor[0][self.country_to_idx[self.countries[index]]] = 1\n",
        "        return tensor\n",
        "\n",
        "    def countryID(self, index):\n",
        "        return torch.tensor(self.country_to_idx[self.countries[index]])\n",
        "\n",
        "    def __getitem__(self, index):\n",
        "        return (self.names[index], self.countries[index], \\\n",
        "            nameToTensor(self.names[index]), self.countryID(index))\n",
        "    \n",
        "    def __len__(self):\n",
        "        return self.n\n",
        "\n",
        "dataset = NamesDataset('data/names_1000/*.txt')\n",
        "N_COUNTRIES = dataset.n_countries\n",
        "dataset[0][0], dataset[0][1], dataset[0][2].shape, dataset[0][3]"
      ]
    },
    {
      "attachments": {},
      "cell_type": "markdown",
      "metadata": {},
      "source": [
        "Create a dataloader for the dataset; the `batch_size` must be 1, since different names can have different lengths (and therefore, different tensor size)."
      ]
    },
    {
      "cell_type": "code",
      "execution_count": 9,
      "metadata": {},
      "outputs": [
        {
          "data": {
            "text/plain": [
              "('Handal', 'Arabic', torch.Size([6, 1, 54]), tensor(0))"
            ]
          },
          "execution_count": 9,
          "metadata": {},
          "output_type": "execute_result"
        }
      ],
      "source": [
        "loader = DataLoader(dataset, batch_size=1, shuffle=True) # batch_size 1 as names have different lengths\n",
        "\n",
        "loader.dataset[0][0], loader.dataset[0][1],\\\n",
        "loader.dataset[0][2].shape, loader.dataset[0][3]"
      ]
    },
    {
      "attachments": {},
      "cell_type": "markdown",
      "metadata": {},
      "source": [
        "### Build the RNN"
      ]
    },
    {
      "attachments": {},
      "cell_type": "markdown",
      "metadata": {},
      "source": [
        "Define the RNN with the following parameters:\n",
        "- input_size: number of input features\n",
        "- hidden_size: number of hidden units\n",
        "- output_size: number of output features\n",
        "- idx_to_country: list of countries\n",
        "\n",
        "The input is a one-hot vector of size `N_LETTERS`; the output is a one-hot vector of size `N_COUNTRIES = len(idx_to_country)` + a hidden state of size `hidden_size`.\n",
        "You can build the architecture you like, but one that is known to work is the following:"
      ]
    },
    {
      "attachments": {},
      "cell_type": "markdown",
      "metadata": {},
      "source": [
        "<svg\n",
        "   width=\"180mm\"\n",
        "   height=\"150mm\"\n",
        "   viewBox=\"0 0 250 230\"\n",
        "   version=\"1.1\"\n",
        "   id=\"svg5\"\n",
        "   xml:space=\"preserve\"\n",
        "   inkscape:version=\"1.2.1 (9c6d41e410, 2022-07-14)\"\n",
        "   sodipodi:docname=\"rnn.svg\"\n",
        "   xmlns:inkscape=\"http://www.inkscape.org/namespaces/inkscape\"\n",
        "   xmlns:sodipodi=\"http://sodipodi.sourceforge.net/DTD/sodipodi-0.dtd\"\n",
        "   xmlns=\"http://www.w3.org/2000/svg\"\n",
        "   xmlns:svg=\"http://www.w3.org/2000/svg\"><sodipodi:namedview\n",
        "     id=\"namedview7\"\n",
        "     pagecolor=\"#ffffff\"\n",
        "     bordercolor=\"#000000\"\n",
        "     borderopacity=\"0.25\"\n",
        "     inkscape:showpageshadow=\"2\"\n",
        "     inkscape:pageopacity=\"0.0\"\n",
        "     inkscape:pagecheckerboard=\"0\"\n",
        "     inkscape:deskcolor=\"#d1d1d1\"\n",
        "     inkscape:document-units=\"mm\"\n",
        "     showgrid=\"false\"\n",
        "     inkscape:zoom=\"0.7071068\"\n",
        "     inkscape:cx=\"753.0687\"\n",
        "     inkscape:cy=\"376.8879\"\n",
        "     inkscape:window-width=\"1920\"\n",
        "     inkscape:window-height=\"991\"\n",
        "     inkscape:window-x=\"4791\"\n",
        "     inkscape:window-y=\"-9\"\n",
        "     inkscape:window-maximized=\"1\"\n",
        "     inkscape:current-layer=\"layer1\" /><defs\n",
        "     id=\"defs2\"><inkscape:path-effect\n",
        "       effect=\"skeletal\"\n",
        "       id=\"path-effect429\"\n",
        "       is_visible=\"true\"\n",
        "       lpeversion=\"1\"\n",
        "       pattern=\"M 0,4.9921385 C 0,2.2364781 2.2364781,0 4.9921385,0 7.747799,0 9.984277,2.2364781 9.984277,4.9921385 9.984277,7.747799 7.747799,9.984277 4.9921385,9.984277 2.2364781,9.984277 0,7.747799 0,4.9921385 Z\"\n",
        "       copytype=\"single_stretched\"\n",
        "       prop_scale=\"1\"\n",
        "       scale_y_rel=\"false\"\n",
        "       spacing=\"0\"\n",
        "       normal_offset=\"0\"\n",
        "       tang_offset=\"0\"\n",
        "       prop_units=\"false\"\n",
        "       vertical_pattern=\"false\"\n",
        "       hide_knot=\"false\"\n",
        "       fuse_tolerance=\"0\" /><inkscape:path-effect\n",
        "       effect=\"spiro\"\n",
        "       id=\"path-effect423\"\n",
        "       is_visible=\"true\"\n",
        "       lpeversion=\"1\" /><inkscape:path-effect\n",
        "       effect=\"spiro\"\n",
        "       id=\"path-effect419\"\n",
        "       is_visible=\"true\"\n",
        "       lpeversion=\"1\" /><inkscape:path-effect\n",
        "       effect=\"powerstroke\"\n",
        "       id=\"path-effect413\"\n",
        "       is_visible=\"true\"\n",
        "       lpeversion=\"1\"\n",
        "       offset_points=\"0,4.9921385\"\n",
        "       not_jump=\"false\"\n",
        "       sort_points=\"true\"\n",
        "       interpolator_type=\"CubicBezierJohan\"\n",
        "       interpolator_beta=\"0.2\"\n",
        "       start_linecap_type=\"zerowidth\"\n",
        "       linejoin_type=\"extrp_arc\"\n",
        "       miter_limit=\"4\"\n",
        "       scale_width=\"1\"\n",
        "       end_linecap_type=\"zerowidth\" /></defs><g\n",
        "     inkscape:label=\"Layer 1\"\n",
        "     inkscape:groupmode=\"layer\"\n",
        "     id=\"layer1\"><g\n",
        "       id=\"g3039\"\n",
        "       transform=\"matrix(1.4682178,0,0,1.4682178,-40.502839,-12.441842)\"><path\n",
        "         style=\"fill:#000000;fill-opacity:1;stroke:#707070;stroke-width:3.95694;stroke-linecap:round;stroke-linejoin:round;stroke-dasharray:none;stroke-opacity:1\"\n",
        "         d=\"m 154.93054,40.952583 22.99511,-0.23014\"\n",
        "         id=\"path2785\" /><path\n",
        "         style=\"fill:#000000;fill-opacity:1;stroke:#707070;stroke-width:3.95694;stroke-linecap:round;stroke-linejoin:round;stroke-dasharray:none;stroke-opacity:1\"\n",
        "         d=\"m 156.77744,52.695251 22.99511,-0.23014\"\n",
        "         id=\"path2785-7\" /></g><g\n",
        "       id=\"g2456\"\n",
        "       transform=\"matrix(1.4682178,0,0,1.4682178,-40.502839,-12.441842)\"><path\n",
        "         d=\"m 57.107868,18.211057 c 9.227887,2.476855 31.397873,8.428583 40.969429,10.998057\"\n",
        "         style=\"fill:none;stroke:#707070;stroke-width:1.5;stroke-linecap:butt;stroke-linejoin:miter;stroke-miterlimit:10;stroke-dasharray:none;stroke-opacity:1\"\n",
        "         id=\"path7906-8\"\n",
        "         sodipodi:nodetypes=\"cc\" /><path\n",
        "         d=\"m 57.107868,29.73927 c 9.227887,2.476854 31.397873,8.428583 40.969429,10.998056\"\n",
        "         style=\"fill:none;stroke:#707070;stroke-width:1.5;stroke-linecap:butt;stroke-linejoin:miter;stroke-miterlimit:10;stroke-dasharray:none;stroke-opacity:1\"\n",
        "         id=\"path7906-8-8\"\n",
        "         sodipodi:nodetypes=\"cc\" /><path\n",
        "         d=\"m 57.107868,41.267479 c 9.227887,2.476854 31.397873,8.428583 40.969429,10.998056\"\n",
        "         style=\"fill:none;stroke:#707070;stroke-width:1.5;stroke-linecap:butt;stroke-linejoin:miter;stroke-miterlimit:10;stroke-dasharray:none;stroke-opacity:1\"\n",
        "         id=\"path7906-8-89\"\n",
        "         sodipodi:nodetypes=\"cc\" /><path\n",
        "         d=\"m 57.107868,52.795691 c 9.227887,2.476854 31.397873,8.428583 40.969429,10.998056\"\n",
        "         style=\"fill:none;stroke:#707070;stroke-width:1.5;stroke-linecap:butt;stroke-linejoin:miter;stroke-miterlimit:10;stroke-dasharray:none;stroke-opacity:1\"\n",
        "         id=\"path7906-8-1\"\n",
        "         sodipodi:nodetypes=\"cc\" /><path\n",
        "         d=\"m 55.620229,84.429049 c 9.879944,-1.894885 33.616493,-6.448185 43.864391,-8.41393\"\n",
        "         style=\"fill:none;stroke:#707070;stroke-width:1.5;stroke-linecap:butt;stroke-linejoin:miter;stroke-miterlimit:10;stroke-dasharray:none;stroke-opacity:1\"\n",
        "         id=\"path7906-8-1-6\"\n",
        "         sodipodi:nodetypes=\"cc\" /><path\n",
        "         d=\"M 55.620229,96.088491 C 65.500174,94.193605 89.236723,89.640302 99.48462,87.67456\"\n",
        "         style=\"fill:none;stroke:#707070;stroke-width:1.5;stroke-linecap:butt;stroke-linejoin:miter;stroke-miterlimit:10;stroke-dasharray:none;stroke-opacity:1\"\n",
        "         id=\"path7906-8-1-6-4\"\n",
        "         sodipodi:nodetypes=\"cc\" /><path\n",
        "         d=\"m 55.620229,107.74793 c 9.879945,-1.89489 33.616494,-6.44819 43.864391,-8.413931\"\n",
        "         style=\"fill:none;stroke:#707070;stroke-width:1.5;stroke-linecap:butt;stroke-linejoin:miter;stroke-miterlimit:10;stroke-dasharray:none;stroke-opacity:1\"\n",
        "         id=\"path7906-8-1-6-8\"\n",
        "         sodipodi:nodetypes=\"cc\" /><path\n",
        "         d=\"m 55.620229,119.40737 c 9.879944,-1.89489 33.616493,-6.44819 43.864391,-8.41393\"\n",
        "         style=\"fill:none;stroke:#707070;stroke-width:1.5;stroke-linecap:butt;stroke-linejoin:miter;stroke-miterlimit:10;stroke-dasharray:none;stroke-opacity:1\"\n",
        "         id=\"path7906-8-1-6-44\"\n",
        "         sodipodi:nodetypes=\"cc\" /><path\n",
        "         d=\"m 55.620229,131.06681 c 9.879944,-1.89488 33.616493,-6.44818 43.864391,-8.41393\"\n",
        "         style=\"fill:none;stroke:#707070;stroke-width:1.5;stroke-linecap:butt;stroke-linejoin:miter;stroke-miterlimit:10;stroke-dasharray:none;stroke-opacity:1\"\n",
        "         id=\"path7906-8-1-6-81\"\n",
        "         sodipodi:nodetypes=\"cc\" /><path\n",
        "         d=\"m 55.620229,142.72625 c 9.879945,-1.89488 33.616494,-6.44818 43.864391,-8.41393\"\n",
        "         style=\"fill:none;stroke:#707070;stroke-width:1.5;stroke-linecap:butt;stroke-linejoin:miter;stroke-miterlimit:10;stroke-dasharray:none;stroke-opacity:1\"\n",
        "         id=\"path7906-8-1-6-82\"\n",
        "         sodipodi:nodetypes=\"cc\" /></g><g\n",
        "       id=\"g2626\"\n",
        "       transform=\"matrix(1.4682178,0,0,1.4682178,-40.502839,-12.441842)\"><path\n",
        "         d=\"m 103.99351,77.017534 c 9.87443,2.275253 33.86986,7.804392 44.15201,10.173465\"\n",
        "         style=\"fill:none;stroke:#707070;stroke-width:0.181393;stroke-linecap:butt;stroke-linejoin:miter;stroke-miterlimit:10;stroke-dasharray:none;stroke-opacity:1\"\n",
        "         id=\"path7724\" /><path\n",
        "         d=\"m 102.88525,77.519249 c 9.42931,4.364652 36.70885,16.993638 46.50758,21.529733\"\n",
        "         style=\"fill:none;stroke:#707070;stroke-width:0.181393;stroke-linecap:butt;stroke-linejoin:miter;stroke-miterlimit:10;stroke-dasharray:none;stroke-opacity:1\"\n",
        "         id=\"path7732\" /><path\n",
        "         d=\"m 102.13021,77.750896 c 8.87459,6.171363 38.82078,26.997334 48.07275,33.432284\"\n",
        "         style=\"fill:none;stroke:#707070;stroke-width:0.181393;stroke-linecap:butt;stroke-linejoin:miter;stroke-miterlimit:10;stroke-dasharray:none;stroke-opacity:1\"\n",
        "         id=\"path7740\" /><path\n",
        "         d=\"m 101.62292,77.861805 c 8.3567,7.754132 40.53737,37.616665 49.18071,45.636955\"\n",
        "         style=\"fill:none;stroke:#707070;stroke-width:0.181393;stroke-linecap:butt;stroke-linejoin:miter;stroke-miterlimit:10;stroke-dasharray:none;stroke-opacity:1\"\n",
        "         id=\"path7748\" /><path\n",
        "         d=\"m 102.13021,74.26324 c 8.89551,-6.222849 38.95865,-27.257344 48.13726,-33.678669\"\n",
        "         style=\"fill:none;stroke:#707070;stroke-width:0.181393;stroke-linecap:butt;stroke-linejoin:miter;stroke-miterlimit:10;stroke-dasharray:none;stroke-opacity:1\"\n",
        "         id=\"path7756\" /><path\n",
        "         d=\"m 102.88525,74.491872 c 9.42931,-4.404413 36.70885,-17.147659 46.50758,-21.724745\"\n",
        "         style=\"fill:none;stroke:#707070;stroke-width:0.181393;stroke-linecap:butt;stroke-linejoin:miter;stroke-miterlimit:10;stroke-dasharray:none;stroke-opacity:1\"\n",
        "         id=\"path7764\" /><path\n",
        "         d=\"m 103.99351,74.988785 c 9.89977,-2.322387 33.99065,-7.974608 44.2289,-10.376741\"\n",
        "         style=\"fill:none;stroke:#707070;stroke-width:0.181393;stroke-linecap:butt;stroke-linejoin:miter;stroke-miterlimit:10;stroke-dasharray:none;stroke-opacity:1\"\n",
        "         id=\"path7772\" /><path\n",
        "         d=\"m 104.74265,76.001372 c 10.03558,-0.0209 32.23694,-0.06713 42.63281,-0.08902\"\n",
        "         style=\"fill:none;stroke:#707070;stroke-width:0.181393;stroke-linecap:butt;stroke-linejoin:miter;stroke-miterlimit:10;stroke-dasharray:none;stroke-opacity:1\"\n",
        "         id=\"path7780\" /><path\n",
        "         d=\"m 104.74265,88.096251 c 10.03558,0.04189 32.23694,0.13526 42.63281,0.178482\"\n",
        "         style=\"fill:none;stroke:#707070;stroke-width:0.181393;stroke-linecap:butt;stroke-linejoin:miter;stroke-miterlimit:10;stroke-dasharray:none;stroke-opacity:1\"\n",
        "         id=\"path7788\" /><path\n",
        "         d=\"m 103.99351,89.107613 c 9.89977,2.343384 33.99065,8.046091 44.2289,10.469221\"\n",
        "         style=\"fill:none;stroke:#707070;stroke-width:0.181393;stroke-linecap:butt;stroke-linejoin:miter;stroke-miterlimit:10;stroke-dasharray:none;stroke-opacity:1\"\n",
        "         id=\"path7790\" /><path\n",
        "         d=\"m 102.88525,89.602402 c 9.42931,4.42396 36.70885,17.224388 46.50758,21.822028\"\n",
        "         style=\"fill:none;stroke:#707070;stroke-width:0.181393;stroke-linecap:butt;stroke-linejoin:miter;stroke-miterlimit:10;stroke-dasharray:none;stroke-opacity:1\"\n",
        "         id=\"path7792\" /><path\n",
        "         d=\"m 102.13021,89.829245 c 8.89551,6.241614 38.95865,27.338885 48.13726,33.779525\"\n",
        "         style=\"fill:none;stroke:#707070;stroke-width:0.181393;stroke-linecap:butt;stroke-linejoin:miter;stroke-miterlimit:10;stroke-dasharray:none;stroke-opacity:1\"\n",
        "         id=\"path7794\" /><path\n",
        "         d=\"m 101.62292,86.229787 c 8.3567,-7.736706 40.53737,-37.531556 49.18071,-45.533974\"\n",
        "         style=\"fill:none;stroke:#707070;stroke-width:0.181393;stroke-linecap:butt;stroke-linejoin:miter;stroke-miterlimit:10;stroke-dasharray:none;stroke-opacity:1\"\n",
        "         id=\"path7796\" /><path\n",
        "         d=\"m 102.13021,86.341478 c 8.87459,-6.15293 38.82078,-26.916131 48.07275,-33.331313\"\n",
        "         style=\"fill:none;stroke:#707070;stroke-width:0.181393;stroke-linecap:butt;stroke-linejoin:miter;stroke-miterlimit:10;stroke-dasharray:none;stroke-opacity:1\"\n",
        "         id=\"path7798\" /><path\n",
        "         d=\"m 102.96567,86.537833 c 9.4847,-4.370797 36.55478,-16.845648 46.37178,-21.370016\"\n",
        "         style=\"fill:none;stroke:#707070;stroke-width:0.181393;stroke-linecap:butt;stroke-linejoin:miter;stroke-miterlimit:10;stroke-dasharray:none;stroke-opacity:1\"\n",
        "         id=\"path7800\" /><path\n",
        "         d=\"m 103.99351,87.078415 c 9.87443,-2.254254 33.86986,-7.733245 44.15201,-10.080539\"\n",
        "         style=\"fill:none;stroke:#707070;stroke-width:0.181393;stroke-linecap:butt;stroke-linejoin:miter;stroke-miterlimit:10;stroke-dasharray:none;stroke-opacity:1\"\n",
        "         id=\"path7802\" /><path\n",
        "         d=\"m 104.08424,99.1485 c 9.91156,-2.200756 33.72404,-7.48775 44.00473,-9.770821\"\n",
        "         style=\"fill:none;stroke:#707070;stroke-width:0.181393;stroke-linecap:butt;stroke-linejoin:miter;stroke-miterlimit:10;stroke-dasharray:none;stroke-opacity:1\"\n",
        "         id=\"path7810\" /><path\n",
        "         d=\"m 104.74265,100.19113 c 10.03558,0.10521 32.23694,0.33776 42.63281,0.44643\"\n",
        "         style=\"fill:none;stroke:#707070;stroke-width:0.181393;stroke-linecap:butt;stroke-linejoin:miter;stroke-miterlimit:10;stroke-dasharray:none;stroke-opacity:1\"\n",
        "         id=\"path7812\" /><path\n",
        "         d=\"m 103.99351,101.19769 c 9.89977,2.40526 33.99065,8.25942 44.2289,10.74722\"\n",
        "         style=\"fill:none;stroke:#707070;stroke-width:0.181393;stroke-linecap:butt;stroke-linejoin:miter;stroke-miterlimit:10;stroke-dasharray:none;stroke-opacity:1\"\n",
        "         id=\"path7814\" /><path\n",
        "         d=\"m 102.88525,101.68544 c 9.45111,4.49388 36.84024,17.51714 46.57769,22.1475\"\n",
        "         style=\"fill:none;stroke:#707070;stroke-width:0.181393;stroke-linecap:butt;stroke-linejoin:miter;stroke-miterlimit:10;stroke-dasharray:none;stroke-opacity:1\"\n",
        "         id=\"path7816\" /><path\n",
        "         d=\"m 101.28443,98.231743 c 7.89302,-9.093191 41.67568,-48.014738 49.87006,-57.455288\"\n",
        "         style=\"fill:none;stroke:#707070;stroke-width:0.181393;stroke-linecap:butt;stroke-linejoin:miter;stroke-miterlimit:10;stroke-dasharray:none;stroke-opacity:1\"\n",
        "         id=\"path7818\" /><path\n",
        "         d=\"m 101.65503,98.275412 c 8.40855,-7.731903 40.52706,-37.268075 49.15332,-45.199796\"\n",
        "         style=\"fill:none;stroke:#707070;stroke-width:0.181393;stroke-linecap:butt;stroke-linejoin:miter;stroke-miterlimit:10;stroke-dasharray:none;stroke-opacity:1\"\n",
        "         id=\"path7820\" /><path\n",
        "         d=\"m 102.13021,98.419828 c 8.87459,-6.097196 38.82078,-26.671862 48.07275,-33.029524\"\n",
        "         style=\"fill:none;stroke:#707070;stroke-width:0.181393;stroke-linecap:butt;stroke-linejoin:miter;stroke-miterlimit:10;stroke-dasharray:none;stroke-opacity:1\"\n",
        "         id=\"path7822\" /><path\n",
        "         d=\"m 102.96567,98.621431 c 9.4847,-4.31104 36.55478,-16.615787 46.37178,-21.078614\"\n",
        "         style=\"fill:none;stroke:#707070;stroke-width:0.181393;stroke-linecap:butt;stroke-linejoin:miter;stroke-miterlimit:10;stroke-dasharray:none;stroke-opacity:1\"\n",
        "         id=\"path7824\" /><path\n",
        "         d=\"m 102.96567,110.70492 c 9.4847,-4.25162 36.55478,-16.386263 46.37178,-20.787102\"\n",
        "         style=\"fill:none;stroke:#707070;stroke-width:0.181393;stroke-linecap:butt;stroke-linejoin:miter;stroke-miterlimit:10;stroke-dasharray:none;stroke-opacity:1\"\n",
        "         id=\"path7832\" /><path\n",
        "         d=\"m 104.08424,111.23902 c 9.91156,-2.13832 33.72404,-7.27609 44.00473,-9.49416\"\n",
        "         style=\"fill:none;stroke:#707070;stroke-width:0.181393;stroke-linecap:butt;stroke-linejoin:miter;stroke-miterlimit:10;stroke-dasharray:none;stroke-opacity:1\"\n",
        "         id=\"path7834\" /><path\n",
        "         d=\"m 104.74265,112.28568 c 10.03558,0.16832 32.23694,0.54047 42.63281,0.71459\"\n",
        "         style=\"fill:none;stroke:#707070;stroke-width:0.181393;stroke-linecap:butt;stroke-linejoin:miter;stroke-miterlimit:10;stroke-dasharray:none;stroke-opacity:1\"\n",
        "         id=\"path7836\" /><path\n",
        "         d=\"m 103.90365,113.26554 c 9.86089,2.45764 34.13824,8.50949 44.37533,11.06129\"\n",
        "         style=\"fill:none;stroke:#707070;stroke-width:0.181393;stroke-linecap:butt;stroke-linejoin:miter;stroke-miterlimit:10;stroke-dasharray:none;stroke-opacity:1\"\n",
        "         id=\"path7838\" /><path\n",
        "         d=\"M 101.02902,110.27212 C 108.49753,99.978696 143.62058,51.567345 151.4158,40.823141\"\n",
        "         style=\"fill:none;stroke:#707070;stroke-width:0.181393;stroke-linecap:butt;stroke-linejoin:miter;stroke-miterlimit:10;stroke-dasharray:none;stroke-opacity:1\"\n",
        "         id=\"path7840\" /><path\n",
        "         d=\"m 101.28443,110.30484 c 7.89302,-9.04349 41.67568,-47.752597 49.87006,-57.141993\"\n",
        "         style=\"fill:none;stroke:#707070;stroke-width:0.181393;stroke-linecap:butt;stroke-linejoin:miter;stroke-miterlimit:10;stroke-dasharray:none;stroke-opacity:1\"\n",
        "         id=\"path7842\" /><path\n",
        "         d=\"m 101.65503,110.35064 c 8.38911,-7.66166 40.38212,-36.880625 49.09351,-44.836807\"\n",
        "         style=\"fill:none;stroke:#707070;stroke-width:0.181393;stroke-linecap:butt;stroke-linejoin:miter;stroke-miterlimit:10;stroke-dasharray:none;stroke-opacity:1\"\n",
        "         id=\"path7844\" /><path\n",
        "         d=\"m 102.20179,110.44926 c 8.96651,-6.10368 38.79869,-26.413078 48.01384,-32.686523\"\n",
        "         style=\"fill:none;stroke:#707070;stroke-width:0.181393;stroke-linecap:butt;stroke-linejoin:miter;stroke-miterlimit:10;stroke-dasharray:none;stroke-opacity:1\"\n",
        "         id=\"path7846\" /><path\n",
        "         d=\"m 102.20179,122.52805 c 8.94589,-6.03353 38.66053,-26.076323 47.94932,-32.341505\"\n",
        "         style=\"fill:none;stroke:#707070;stroke-width:0.181393;stroke-linecap:butt;stroke-linejoin:miter;stroke-miterlimit:10;stroke-dasharray:none;stroke-opacity:1\"\n",
        "         id=\"path7854\" /><path\n",
        "         d=\"m 103.04757,122.75267 c 9.5386,-4.21588 36.39924,-16.08828 46.23479,-20.43539\"\n",
        "         style=\"fill:none;stroke:#707070;stroke-width:0.181393;stroke-linecap:butt;stroke-linejoin:miter;stroke-miterlimit:10;stroke-dasharray:none;stroke-opacity:1\"\n",
        "         id=\"path7856\" /><path\n",
        "         d=\"m 104.08424,123.32955 c 9.91156,-2.07589 33.72404,-7.06411 44.00473,-9.21762\"\n",
        "         style=\"fill:none;stroke:#707070;stroke-width:0.181393;stroke-linecap:butt;stroke-linejoin:miter;stroke-miterlimit:10;stroke-dasharray:none;stroke-opacity:1\"\n",
        "         id=\"path7858\" /><path\n",
        "         d=\"m 104.74265,124.38056 c 10.03558,0.2312 32.23694,0.74296 42.63281,0.98254\"\n",
        "         style=\"fill:none;stroke:#707070;stroke-width:0.181393;stroke-linecap:butt;stroke-linejoin:miter;stroke-miterlimit:10;stroke-dasharray:none;stroke-opacity:1\"\n",
        "         id=\"path7860\" /><path\n",
        "         d=\"m 100.84372,122.31506 c 7.11529,-11.4168 43.35103,-69.557539 50.77593,-81.472261\"\n",
        "         style=\"fill:none;stroke:#707070;stroke-width:0.181393;stroke-linecap:butt;stroke-linejoin:miter;stroke-miterlimit:10;stroke-dasharray:none;stroke-opacity:1\"\n",
        "         id=\"path7862\" /><path\n",
        "         d=\"m 101.05671,122.3059 c 7.52713,-10.32737 42.58362,-58.425989 50.36262,-69.099048\"\n",
        "         style=\"fill:none;stroke:#707070;stroke-width:0.181393;stroke-linecap:butt;stroke-linejoin:miter;stroke-miterlimit:10;stroke-dasharray:none;stroke-opacity:1\"\n",
        "         id=\"path7864\" /><path\n",
        "         d=\"m 101.31448,122.34388 c 7.93897,-9.04695 41.59142,-47.394857 49.81703,-56.767723\"\n",
        "         style=\"fill:none;stroke:#707070;stroke-width:0.181393;stroke-linecap:butt;stroke-linejoin:miter;stroke-miterlimit:10;stroke-dasharray:none;stroke-opacity:1\"\n",
        "         id=\"path7866\" /><path\n",
        "         d=\"m 101.65503,122.42597 c 8.38911,-7.60893 40.38212,-36.626748 49.09351,-44.528423\"\n",
        "         style=\"fill:none;stroke:#707070;stroke-width:0.181393;stroke-linecap:butt;stroke-linejoin:miter;stroke-miterlimit:10;stroke-dasharray:none;stroke-opacity:1\"\n",
        "         id=\"path7868\" /><path\n",
        "         d=\"m 101.68832,134.47193 c 8.43978,-7.60234 40.37181,-36.364052 49.06464,-44.19458\"\n",
        "         style=\"fill:none;stroke:#707070;stroke-width:0.181393;stroke-linecap:butt;stroke-linejoin:miter;stroke-miterlimit:10;stroke-dasharray:none;stroke-opacity:1\"\n",
        "         id=\"path7876\" /><path\n",
        "         d=\"m 102.20179,134.60674 c 8.94589,-5.97713 38.66053,-25.83329 47.94932,-32.03995\"\n",
        "         style=\"fill:none;stroke:#707070;stroke-width:0.181393;stroke-linecap:butt;stroke-linejoin:miter;stroke-miterlimit:10;stroke-dasharray:none;stroke-opacity:1\"\n",
        "         id=\"path7878\" /><path\n",
        "         d=\"m 103.04757,134.83671 c 9.5386,-4.15612 36.39924,-15.85964 46.23479,-20.14488\"\n",
        "         style=\"fill:none;stroke:#707070;stroke-width:0.181393;stroke-linecap:butt;stroke-linejoin:miter;stroke-miterlimit:10;stroke-dasharray:none;stroke-opacity:1\"\n",
        "         id=\"path7880\" /><path\n",
        "         d=\"m 104.17645,135.40164 c 9.94808,-2.02127 33.57645,-6.82229 43.85625,-8.9108\"\n",
        "         style=\"fill:none;stroke:#707070;stroke-width:0.181393;stroke-linecap:butt;stroke-linejoin:miter;stroke-miterlimit:10;stroke-dasharray:none;stroke-opacity:1\"\n",
        "         id=\"path7882\" /><path\n",
        "         d=\"m 100.71941,134.33109 c 6.8528,-12.54567 43.94491,-80.453646 51.05314,-93.466847\"\n",
        "         style=\"fill:none;stroke:#707070;stroke-width:0.181393;stroke-linecap:butt;stroke-linejoin:miter;stroke-miterlimit:10;stroke-dasharray:none;stroke-opacity:1\"\n",
        "         id=\"path7884\" /><path\n",
        "         d=\"m 100.87024,134.34415 c 7.17715,-11.47097 43.34189,-69.272723 50.75265,-81.116298\"\n",
        "         style=\"fill:none;stroke:#707070;stroke-width:0.181393;stroke-linecap:butt;stroke-linejoin:miter;stroke-miterlimit:10;stroke-dasharray:none;stroke-opacity:1\"\n",
        "         id=\"path7886\" /><path\n",
        "         d=\"m 101.05671,134.37766 c 7.52713,-10.28024 42.58362,-58.15849 50.36262,-68.782738\"\n",
        "         style=\"fill:none;stroke:#707070;stroke-width:0.181393;stroke-linecap:butt;stroke-linejoin:miter;stroke-miterlimit:10;stroke-dasharray:none;stroke-opacity:1\"\n",
        "         id=\"path7888\" /><path\n",
        "         d=\"m 101.31448,134.41698 c 7.93897,-8.99725 41.59142,-47.133501 49.81703,-56.454428\"\n",
        "         style=\"fill:none;stroke:#707070;stroke-width:0.181393;stroke-linecap:butt;stroke-linejoin:miter;stroke-miterlimit:10;stroke-dasharray:none;stroke-opacity:1\"\n",
        "         id=\"path7890\" /><path\n",
        "         d=\"m 101.31448,29.457378 c 7.93897,9.046951 41.59142,47.394854 49.81703,56.767606\"\n",
        "         style=\"fill:none;stroke:#707070;stroke-width:0.181393;stroke-linecap:butt;stroke-linejoin:miter;stroke-miterlimit:10;stroke-dasharray:none;stroke-opacity:1\"\n",
        "         id=\"path7898\" /><path\n",
        "         d=\"m 101.05671,29.495352 c 7.52713,10.327375 42.58362,58.425992 50.36262,69.099051\"\n",
        "         style=\"fill:none;stroke:#707070;stroke-width:0.181393;stroke-linecap:butt;stroke-linejoin:miter;stroke-miterlimit:10;stroke-dasharray:none;stroke-opacity:1\"\n",
        "         id=\"path7900\" /><path\n",
        "         d=\"m 100.84372,29.486082 c 7.11529,11.416916 43.35103,69.557651 50.77593,81.472378\"\n",
        "         style=\"fill:none;stroke:#707070;stroke-width:0.181393;stroke-linecap:butt;stroke-linejoin:miter;stroke-miterlimit:10;stroke-dasharray:none;stroke-opacity:1\"\n",
        "         id=\"path7902\" /><path\n",
        "         d=\"m 100.69525,29.495352 c 6.79654,12.48401 44.03241,80.890688 51.09791,93.869488\"\n",
        "         style=\"fill:none;stroke:#707070;stroke-width:0.181393;stroke-linecap:butt;stroke-linejoin:miter;stroke-miterlimit:10;stroke-dasharray:none;stroke-opacity:1\"\n",
        "         id=\"path7904\" /><path\n",
        "         d=\"m 104.08424,28.471706 c 9.91156,2.075885 33.72404,7.064106 44.00473,9.217616\"\n",
        "         style=\"fill:none;stroke:#707070;stroke-width:0.181393;stroke-linecap:butt;stroke-linejoin:miter;stroke-miterlimit:10;stroke-dasharray:none;stroke-opacity:1\"\n",
        "         id=\"path7906\"\n",
        "         sodipodi:nodetypes=\"cc\" /><path\n",
        "         d=\"m 103.04757,29.048589 c 9.5386,4.215879 36.39924,16.088161 46.23479,20.435389\"\n",
        "         style=\"fill:none;stroke:#707070;stroke-width:0.181393;stroke-linecap:butt;stroke-linejoin:miter;stroke-miterlimit:10;stroke-dasharray:none;stroke-opacity:1\"\n",
        "         id=\"path7908\" /><path\n",
        "         d=\"m 102.20179,29.273201 c 8.94589,6.033532 38.66053,26.076326 47.94932,32.341509\"\n",
        "         style=\"fill:none;stroke:#707070;stroke-width:0.181393;stroke-linecap:butt;stroke-linejoin:miter;stroke-miterlimit:10;stroke-dasharray:none;stroke-opacity:1\"\n",
        "         id=\"path7910\" /><path\n",
        "         d=\"m 101.65503,29.375286 c 8.38911,7.608931 40.38212,36.626747 49.09351,44.528422\"\n",
        "         style=\"fill:none;stroke:#707070;stroke-width:0.181393;stroke-linecap:butt;stroke-linejoin:miter;stroke-miterlimit:10;stroke-dasharray:none;stroke-opacity:1\"\n",
        "         id=\"path7912\" /><path\n",
        "         d=\"m 101.65503,41.450618 c 8.38911,7.661652 40.38212,36.880625 49.09351,44.836803\"\n",
        "         style=\"fill:none;stroke:#707070;stroke-width:0.181393;stroke-linecap:butt;stroke-linejoin:miter;stroke-miterlimit:10;stroke-dasharray:none;stroke-opacity:1\"\n",
        "         id=\"path7920\" /><path\n",
        "         d=\"m 101.28443,41.496412 c 7.89302,9.043376 41.67568,47.7526 49.87006,57.141996\"\n",
        "         style=\"fill:none;stroke:#707070;stroke-width:0.181393;stroke-linecap:butt;stroke-linejoin:miter;stroke-miterlimit:10;stroke-dasharray:none;stroke-opacity:1\"\n",
        "         id=\"path7922\" /><path\n",
        "         d=\"m 101.02902,41.529139 c 7.46851,10.29342 42.59156,58.704771 50.38678,69.448971\"\n",
        "         style=\"fill:none;stroke:#707070;stroke-width:0.181393;stroke-linecap:butt;stroke-linejoin:miter;stroke-miterlimit:10;stroke-dasharray:none;stroke-opacity:1\"\n",
        "         id=\"path7924\" /><path\n",
        "         d=\"m 100.84372,41.556614 c 7.11529,11.461371 43.35103,69.829846 50.77593,81.791246\"\n",
        "         style=\"fill:none;stroke:#707070;stroke-width:0.181393;stroke-linecap:butt;stroke-linejoin:miter;stroke-miterlimit:10;stroke-dasharray:none;stroke-opacity:1\"\n",
        "         id=\"path7926\" /><path\n",
        "         d=\"m 104.74265,39.515578 c 10.03558,-0.16832 32.23694,-0.540472 42.63281,-0.714597\"\n",
        "         style=\"fill:none;stroke:#707070;stroke-width:0.181393;stroke-linecap:butt;stroke-linejoin:miter;stroke-miterlimit:10;stroke-dasharray:none;stroke-opacity:1\"\n",
        "         id=\"path7928\" /><path\n",
        "         d=\"m 104.08424,40.562231 c 9.91156,2.13832 33.72404,7.276095 44.00473,9.49416\"\n",
        "         style=\"fill:none;stroke:#707070;stroke-width:0.181393;stroke-linecap:butt;stroke-linejoin:miter;stroke-miterlimit:10;stroke-dasharray:none;stroke-opacity:1\"\n",
        "         id=\"path7930\" /><path\n",
        "         d=\"m 102.96567,41.096336 c 9.4847,4.25162 36.55478,16.386261 46.37178,20.7871\"\n",
        "         style=\"fill:none;stroke:#707070;stroke-width:0.181393;stroke-linecap:butt;stroke-linejoin:miter;stroke-miterlimit:10;stroke-dasharray:none;stroke-opacity:1\"\n",
        "         id=\"path7932\" /><path\n",
        "         d=\"m 102.20179,41.351996 c 8.96651,6.103676 38.79869,26.413076 48.01384,32.686522\"\n",
        "         style=\"fill:none;stroke:#707070;stroke-width:0.181393;stroke-linecap:butt;stroke-linejoin:miter;stroke-miterlimit:10;stroke-dasharray:none;stroke-opacity:1\"\n",
        "         id=\"path7934\" /><path\n",
        "         d=\"m 102.13021,53.381427 c 8.87459,6.097199 38.82078,26.671862 48.07275,33.029524\"\n",
        "         style=\"fill:none;stroke:#707070;stroke-width:0.181393;stroke-linecap:butt;stroke-linejoin:miter;stroke-miterlimit:10;stroke-dasharray:none;stroke-opacity:1\"\n",
        "         id=\"path7942\" /><path\n",
        "         d=\"m 101.65503,53.525843 c 8.40855,7.731902 40.52706,37.268078 49.15332,45.199795\"\n",
        "         style=\"fill:none;stroke:#707070;stroke-width:0.181393;stroke-linecap:butt;stroke-linejoin:miter;stroke-miterlimit:10;stroke-dasharray:none;stroke-opacity:1\"\n",
        "         id=\"path7944\" /><path\n",
        "         d=\"m 101.28443,53.569401 c 7.89302,9.093302 41.67568,48.014849 49.87006,57.455399\"\n",
        "         style=\"fill:none;stroke:#707070;stroke-width:0.181393;stroke-linecap:butt;stroke-linejoin:miter;stroke-miterlimit:10;stroke-dasharray:none;stroke-opacity:1\"\n",
        "         id=\"path7946\" /><path\n",
        "         d=\"m 101.02902,53.60045 c 7.47646,10.351837 42.66875,59.07961 50.4121,69.80102\"\n",
        "         style=\"fill:none;stroke:#707070;stroke-width:0.181393;stroke-linecap:butt;stroke-linejoin:miter;stroke-miterlimit:10;stroke-dasharray:none;stroke-opacity:1\"\n",
        "         id=\"path7948\" /><path\n",
        "         d=\"m 103.99351,50.603565 c 9.89977,-2.405261 33.99065,-8.259418 44.2289,-10.747221\"\n",
        "         style=\"fill:none;stroke:#707070;stroke-width:0.181393;stroke-linecap:butt;stroke-linejoin:miter;stroke-miterlimit:10;stroke-dasharray:none;stroke-opacity:1\"\n",
        "         id=\"path7950\" /><path\n",
        "         d=\"m 104.74265,51.610121 c 10.03558,-0.105211 32.23694,-0.337753 42.63281,-0.446427\"\n",
        "         style=\"fill:none;stroke:#707070;stroke-width:0.181393;stroke-linecap:butt;stroke-linejoin:miter;stroke-miterlimit:10;stroke-dasharray:none;stroke-opacity:1\"\n",
        "         id=\"path7952\" /><path\n",
        "         d=\"m 104.08424,52.652754 c 9.91156,2.200757 33.72404,7.487751 44.00473,9.770821\"\n",
        "         style=\"fill:none;stroke:#707070;stroke-width:0.181393;stroke-linecap:butt;stroke-linejoin:miter;stroke-miterlimit:10;stroke-dasharray:none;stroke-opacity:1\"\n",
        "         id=\"path7954\" /><path\n",
        "         d=\"m 102.96567,53.179823 c 9.4847,4.311041 36.55478,16.615787 46.37178,21.078614\"\n",
        "         style=\"fill:none;stroke:#707070;stroke-width:0.181393;stroke-linecap:butt;stroke-linejoin:miter;stroke-miterlimit:10;stroke-dasharray:none;stroke-opacity:1\"\n",
        "         id=\"path7956\" /><path\n",
        "         d=\"m 103.21195,65.481109 c 9.71359,4.455792 36.4776,16.733956 46.17293,21.181481\"\n",
        "         style=\"fill:none;stroke:#707070;stroke-width:0.181393;stroke-linecap:butt;stroke-linejoin:miter;stroke-miterlimit:10;stroke-dasharray:none;stroke-opacity:1\"\n",
        "         id=\"path7964\" /><path\n",
        "         d=\"m 102.34791,65.716665 c 9.14621,6.322367 38.75273,26.787463 47.8907,33.104581\"\n",
        "         style=\"fill:none;stroke:#707070;stroke-width:0.181393;stroke-linecap:butt;stroke-linejoin:miter;stroke-miterlimit:10;stroke-dasharray:none;stroke-opacity:1\"\n",
        "         id=\"path7966\" /><path\n",
        "         d=\"m 101.81971,65.860634 c 8.64216,7.983321 40.33028,37.255456 48.95299,45.220796\"\n",
        "         style=\"fill:none;stroke:#707070;stroke-width:0.181393;stroke-linecap:butt;stroke-linejoin:miter;stroke-miterlimit:10;stroke-dasharray:none;stroke-opacity:1\"\n",
        "         id=\"path7968\" /><path\n",
        "         d=\"m 101.43527,65.924858 c 8.15873,9.433847 41.55371,48.047462 49.71127,57.480532\"\n",
        "         style=\"fill:none;stroke:#707070;stroke-width:0.181393;stroke-linecap:butt;stroke-linejoin:miter;stroke-miterlimit:10;stroke-dasharray:none;stroke-opacity:1\"\n",
        "         id=\"path7970\" /><path\n",
        "         d=\"m 103.12917,62.189247 c 9.66057,-4.553521 36.63314,-17.265828 46.30961,-21.826831\"\n",
        "         style=\"fill:none;stroke:#707070;stroke-width:0.181393;stroke-linecap:butt;stroke-linejoin:miter;stroke-miterlimit:10;stroke-dasharray:none;stroke-opacity:1\"\n",
        "         id=\"path7972\" /><path\n",
        "         d=\"m 104.36175,62.70805 c 10.11836,-2.416206 33.75821,-8.061392 43.86773,-10.475363\"\n",
        "         style=\"fill:none;stroke:#707070;stroke-width:0.181393;stroke-linecap:butt;stroke-linejoin:miter;stroke-miterlimit:10;stroke-dasharray:none;stroke-opacity:1\"\n",
        "         id=\"path7974\" /><path\n",
        "         d=\"m 105.13593,63.803515 c 10.21764,-0.06411 32.0048,-0.201044 42.25926,-0.265713\"\n",
        "         style=\"fill:none;stroke:#707070;stroke-width:0.181393;stroke-linecap:butt;stroke-linejoin:miter;stroke-miterlimit:10;stroke-dasharray:none;stroke-opacity:1\"\n",
        "         id=\"path7976\" /><path\n",
        "         d=\"m 104.45602,64.929579 c 10.15194,2.296697 33.61003,7.603795 43.71808,9.890329\"\n",
        "         style=\"fill:none;stroke:#707070;stroke-width:0.181393;stroke-linecap:butt;stroke-linejoin:miter;stroke-miterlimit:10;stroke-dasharray:none;stroke-opacity:1\"\n",
        "         id=\"path7978\" /></g><path\n",
        "       d=\"m 41.496589,6.1831395 c 4.051444,0 7.335877,3.2844326 7.335877,7.3358705 0,4.051445 -3.284433,7.335877 -7.335877,7.335877 -4.051444,0 -7.335877,-3.284432 -7.335877,-7.335877 0,-4.0514379 3.284433,-7.3358705 7.335877,-7.3358705\"\n",
        "       style=\"fill:#2ecc71;fill-opacity:1;fill-rule:nonzero;stroke:#219150;stroke-width:1.5;stroke-linecap:butt;stroke-linejoin:miter;stroke-miterlimit:10;stroke-dasharray:none;stroke-opacity:1\"\n",
        "       id=\"path210\"\n",
        "       sodipodi:nodetypes=\"csssc\" /><path\n",
        "       d=\"m 41.496589,39.348014 c 4.051442,0 7.335879,3.284433 7.335879,7.335877 0,4.051444 -3.284437,7.335877 -7.335879,7.335877 -4.051441,0 -7.335878,-3.284433 -7.335878,-7.335877 0,-4.051444 3.284437,-7.335877 7.335878,-7.335877\"\n",
        "       style=\"fill:#2ecc71;fill-opacity:1;fill-rule:nonzero;stroke:#219150;stroke-width:1.5;stroke-linecap:butt;stroke-linejoin:miter;stroke-miterlimit:10;stroke-dasharray:none;stroke-opacity:1\"\n",
        "       id=\"path210-3\"\n",
        "       sodipodi:nodetypes=\"csssc\" /><path\n",
        "       d=\"m 41.496589,22.765576 c 4.051442,0 7.335879,3.284433 7.335879,7.335877 0,4.051444 -3.284437,7.335877 -7.335879,7.335877 -4.051441,0 -7.335878,-3.284433 -7.335878,-7.335877 0,-4.051444 3.284437,-7.335877 7.335878,-7.335877\"\n",
        "       style=\"fill:#2ecc71;fill-opacity:1;fill-rule:nonzero;stroke:#219150;stroke-width:1.5;stroke-linecap:butt;stroke-linejoin:miter;stroke-miterlimit:10;stroke-dasharray:none;stroke-opacity:1\"\n",
        "       id=\"path210-0\"\n",
        "       sodipodi:nodetypes=\"csssc\" /><path\n",
        "       d=\"m 41.496589,55.930453 c 4.051443,0 7.335879,3.284433 7.335879,7.335877 0,4.051444 -3.284436,7.335877 -7.335879,7.335877 -4.051441,0 -7.335877,-3.284433 -7.335877,-7.335877 0,-4.051444 3.284436,-7.335877 7.335877,-7.335877\"\n",
        "       style=\"fill:#2ecc71;fill-opacity:1;fill-rule:nonzero;stroke:#219150;stroke-width:1.5;stroke-linecap:butt;stroke-linejoin:miter;stroke-miterlimit:10;stroke-dasharray:none;stroke-opacity:1\"\n",
        "       id=\"path210-2\"\n",
        "       sodipodi:nodetypes=\"csssc\" /><path\n",
        "       d=\"m 41.496589,103.28474 c 4.051446,0 7.335879,3.28443 7.335879,7.33587 0,4.05144 -3.284433,7.33588 -7.335879,7.33588 -4.051444,0 -7.335877,-3.28444 -7.335877,-7.33588 0,-4.05144 3.284433,-7.33587 7.335877,-7.33587\"\n",
        "       style=\"fill:#3498db;fill-opacity:1;fill-rule:nonzero;stroke:#1b6597;stroke-width:1.5;stroke-linecap:butt;stroke-linejoin:miter;stroke-miterlimit:10;stroke-dasharray:none;stroke-opacity:1\"\n",
        "       id=\"path210-6\"\n",
        "       sodipodi:nodetypes=\"csssc\" /><path\n",
        "       d=\"m 41.496589,137.62877 c 4.051443,0 7.335879,3.28443 7.335879,7.33587 0,4.05145 -3.284436,7.33588 -7.335879,7.33588 -4.051441,0 -7.335877,-3.28443 -7.335877,-7.33588 0,-4.05144 3.284436,-7.33587 7.335877,-7.33587\"\n",
        "       style=\"fill:#3498db;fill-opacity:1;fill-rule:nonzero;stroke:#1b6597;stroke-width:1.5;stroke-linecap:butt;stroke-linejoin:miter;stroke-miterlimit:10;stroke-dasharray:none;stroke-opacity:1\"\n",
        "       id=\"path210-3-8\"\n",
        "       sodipodi:nodetypes=\"csssc\" /><path\n",
        "       d=\"m 41.496589,120.45675 c 4.051443,0 7.335879,3.28443 7.335879,7.33587 0,4.05145 -3.284436,7.33589 -7.335879,7.33589 -4.051441,0 -7.335877,-3.28444 -7.335877,-7.33589 0,-4.05144 3.284436,-7.33587 7.335877,-7.33587\"\n",
        "       style=\"fill:#3498db;fill-opacity:1;fill-rule:nonzero;stroke:#1b6597;stroke-width:1.5;stroke-linecap:butt;stroke-linejoin:miter;stroke-miterlimit:10;stroke-dasharray:none;stroke-opacity:1\"\n",
        "       id=\"path210-0-1\"\n",
        "       sodipodi:nodetypes=\"csssc\" /><path\n",
        "       d=\"m 41.496589,154.80078 c 4.051443,0 7.335879,3.28443 7.335879,7.33587 0,4.05145 -3.284436,7.33588 -7.335879,7.33588 -4.051441,0 -7.335877,-3.28443 -7.335877,-7.33588 0,-4.05144 3.284436,-7.33587 7.335877,-7.33587\"\n",
        "       style=\"fill:#3498db;fill-opacity:1;fill-rule:nonzero;stroke:#1b6597;stroke-width:1.5;stroke-linecap:butt;stroke-linejoin:miter;stroke-miterlimit:10;stroke-dasharray:none;stroke-opacity:1\"\n",
        "       id=\"path210-2-2\"\n",
        "       sodipodi:nodetypes=\"csssc\" /><path\n",
        "       d=\"m 41.496589,171.97279 c 4.051443,0 7.335879,3.28443 7.335879,7.33588 0,4.05144 -3.284436,7.33587 -7.335879,7.33587 -4.051441,0 -7.335877,-3.28443 -7.335877,-7.33587 0,-4.05145 3.284436,-7.33588 7.335877,-7.33588\"\n",
        "       style=\"fill:#3498db;fill-opacity:1;fill-rule:nonzero;stroke:#1b6597;stroke-width:1.5;stroke-linecap:butt;stroke-linejoin:miter;stroke-miterlimit:10;stroke-dasharray:none;stroke-opacity:1\"\n",
        "       id=\"path210-3-8-4\"\n",
        "       sodipodi:nodetypes=\"csssc\" /><path\n",
        "       d=\"m 41.496589,189.1448 c 4.051443,0 7.335879,3.28443 7.335879,7.33588 0,4.05144 -3.284436,7.33587 -7.335879,7.33587 -4.051441,0 -7.335877,-3.28443 -7.335877,-7.33587 0,-4.05145 3.284436,-7.33588 7.335877,-7.33588\"\n",
        "       style=\"fill:#3498db;fill-opacity:1;fill-rule:nonzero;stroke:#1b6597;stroke-width:1.5;stroke-linecap:butt;stroke-linejoin:miter;stroke-miterlimit:10;stroke-dasharray:none;stroke-opacity:1\"\n",
        "       id=\"path210-2-2-2\"\n",
        "       sodipodi:nodetypes=\"csssc\" /><path\n",
        "       d=\"m 106.07951,22.939852 c 4.05145,0 7.33589,3.284433 7.33589,7.335871 0,4.051444 -3.28444,7.335877 -7.33589,7.335877 -4.05144,0 -7.335874,-3.284433 -7.335874,-7.335877 0,-4.051438 3.284434,-7.335871 7.335874,-7.335871\"\n",
        "       style=\"fill:#ffdd55;fill-opacity:1;fill-rule:nonzero;stroke:#aa8800;stroke-width:1.46822;stroke-linecap:butt;stroke-linejoin:miter;stroke-miterlimit:10;stroke-dasharray:none;stroke-opacity:1\"\n",
        "       id=\"path210-8\"\n",
        "       sodipodi:nodetypes=\"csssc\" /><path\n",
        "       d=\"m 106.07951,57.421434 c 4.05145,0 7.33589,3.284433 7.33589,7.335877 0,4.051445 -3.28444,7.335877 -7.33589,7.335877 -4.05144,0 -7.335874,-3.284432 -7.335874,-7.335877 0,-4.051444 3.284434,-7.335877 7.335874,-7.335877\"\n",
        "       style=\"fill:#ffdd55;fill-opacity:1;fill-rule:nonzero;stroke:#aa8800;stroke-width:1.46822;stroke-linecap:butt;stroke-linejoin:miter;stroke-miterlimit:10;stroke-dasharray:none;stroke-opacity:1\"\n",
        "       id=\"path210-3-4\"\n",
        "       sodipodi:nodetypes=\"csssc\" /><path\n",
        "       d=\"m 106.07951,40.180642 c 4.05145,0 7.33589,3.284432 7.33589,7.335877 0,4.051444 -3.28444,7.335876 -7.33589,7.335876 -4.05144,0 -7.335874,-3.284432 -7.335874,-7.335876 0,-4.051445 3.284434,-7.335877 7.335874,-7.335877\"\n",
        "       style=\"fill:#ffdd55;fill-opacity:1;fill-rule:nonzero;stroke:#aa8800;stroke-width:1.46822;stroke-linecap:butt;stroke-linejoin:miter;stroke-miterlimit:10;stroke-dasharray:none;stroke-opacity:1\"\n",
        "       id=\"path210-0-7\"\n",
        "       sodipodi:nodetypes=\"csssc\" /><path\n",
        "       d=\"m 106.07951,74.662229 c 4.05145,0 7.33589,3.284432 7.33589,7.335876 0,4.051445 -3.28444,7.335877 -7.33589,7.335877 -4.05144,0 -7.335874,-3.284432 -7.335874,-7.335877 0,-4.051444 3.284434,-7.335876 7.335874,-7.335876\"\n",
        "       style=\"fill:#ffdd55;fill-opacity:1;fill-rule:nonzero;stroke:#aa8800;stroke-width:1.46822;stroke-linecap:butt;stroke-linejoin:miter;stroke-miterlimit:10;stroke-dasharray:none;stroke-opacity:1\"\n",
        "       id=\"path210-2-23\"\n",
        "       sodipodi:nodetypes=\"csssc\" /><path\n",
        "       d=\"m 106.07951,91.903024 c 4.05145,0 7.33589,3.284433 7.33589,7.335871 0,4.051445 -3.28444,7.335875 -7.33589,7.335875 -4.05144,0 -7.335874,-3.28443 -7.335874,-7.335875 0,-4.051438 3.284434,-7.335871 7.335874,-7.335871\"\n",
        "       style=\"fill:#ffdd55;fill-opacity:1;fill-rule:nonzero;stroke:#aa8800;stroke-width:1.46822;stroke-linecap:butt;stroke-linejoin:miter;stroke-miterlimit:10;stroke-dasharray:none;stroke-opacity:1\"\n",
        "       id=\"path210-6-2\"\n",
        "       sodipodi:nodetypes=\"csssc\" /><path\n",
        "       d=\"m 106.07951,126.38461 c 4.05145,0 7.33589,3.28443 7.33589,7.33588 0,4.05144 -3.28444,7.33587 -7.33589,7.33587 -4.05144,0 -7.335874,-3.28443 -7.335874,-7.33587 0,-4.05145 3.284434,-7.33588 7.335874,-7.33588\"\n",
        "       style=\"fill:#ffdd55;fill-opacity:1;fill-rule:nonzero;stroke:#aa8800;stroke-width:1.46822;stroke-linecap:butt;stroke-linejoin:miter;stroke-miterlimit:10;stroke-dasharray:none;stroke-opacity:1\"\n",
        "       id=\"path210-3-8-7\"\n",
        "       sodipodi:nodetypes=\"csssc\" /><path\n",
        "       d=\"m 106.07951,109.14381 c 4.05145,0 7.33589,3.28444 7.33589,7.33588 0,4.05145 -3.28444,7.33588 -7.33589,7.33588 -4.05144,0 -7.335874,-3.28443 -7.335874,-7.33588 0,-4.05144 3.284434,-7.33588 7.335874,-7.33588\"\n",
        "       style=\"fill:#ffdd55;fill-opacity:1;fill-rule:nonzero;stroke:#aa8800;stroke-width:1.46822;stroke-linecap:butt;stroke-linejoin:miter;stroke-miterlimit:10;stroke-dasharray:none;stroke-opacity:1\"\n",
        "       id=\"path210-0-1-9\"\n",
        "       sodipodi:nodetypes=\"csssc\" /><path\n",
        "       d=\"m 106.07951,143.62541 c 4.05145,0 7.33589,3.28443 7.33589,7.33588 0,4.05144 -3.28444,7.33587 -7.33589,7.33587 -4.05144,0 -7.335874,-3.28443 -7.335874,-7.33587 0,-4.05145 3.284434,-7.33588 7.335874,-7.33588\"\n",
        "       style=\"fill:#ffdd55;fill-opacity:1;fill-rule:nonzero;stroke:#aa8800;stroke-width:1.46822;stroke-linecap:butt;stroke-linejoin:miter;stroke-miterlimit:10;stroke-dasharray:none;stroke-opacity:1\"\n",
        "       id=\"path210-2-2-7\"\n",
        "       sodipodi:nodetypes=\"csssc\" /><path\n",
        "       d=\"m 106.07951,160.86619 c 4.05145,0 7.33589,3.28443 7.33589,7.33588 0,4.05144 -3.28444,7.33587 -7.33589,7.33587 -4.05144,0 -7.335874,-3.28443 -7.335874,-7.33587 0,-4.05145 3.284434,-7.33588 7.335874,-7.33588\"\n",
        "       style=\"fill:#ffdd55;fill-opacity:1;fill-rule:nonzero;stroke:#aa8800;stroke-width:1.46822;stroke-linecap:butt;stroke-linejoin:miter;stroke-miterlimit:10;stroke-dasharray:none;stroke-opacity:1\"\n",
        "       id=\"path210-3-8-4-0\"\n",
        "       sodipodi:nodetypes=\"csssc\" /><path\n",
        "       d=\"m 106.07951,178.10699 c 4.05145,0 7.33589,3.28443 7.33589,7.33587 0,4.05145 -3.28444,7.33588 -7.33589,7.33588 -4.05144,0 -7.335874,-3.28443 -7.335874,-7.33588 0,-4.05144 3.284434,-7.33587 7.335874,-7.33587\"\n",
        "       style=\"fill:#ffdd55;fill-opacity:1;fill-rule:nonzero;stroke:#aa8800;stroke-width:1.46822;stroke-linecap:butt;stroke-linejoin:miter;stroke-miterlimit:10;stroke-dasharray:none;stroke-opacity:1\"\n",
        "       id=\"path210-2-2-2-4\"\n",
        "       sodipodi:nodetypes=\"csssc\" /><g\n",
        "       id=\"g3031\"\n",
        "       transform=\"matrix(1.4682178,0,0,1.4682178,-40.502839,-12.441842)\"\n",
        "       style=\"fill:#ff2a2a;stroke:#aa0000\"><path\n",
        "         d=\"m 152.60023,35.841062 c 2.75944,0 4.99646,2.23702 4.99646,4.996451 0,2.75943 -2.23702,4.99645 -4.99646,4.99645 -2.75943,0 -4.99645,-2.23702 -4.99645,-4.99645 0,-2.759431 2.23702,-4.996451 4.99645,-4.996451\"\n",
        "         style=\"fill:#ff2a2a;fill-opacity:1;fill-rule:nonzero;stroke:#aa0000;stroke-width:1;stroke-linecap:butt;stroke-linejoin:miter;stroke-miterlimit:10;stroke-dasharray:none;stroke-opacity:1\"\n",
        "         id=\"path210-3-4-8\"\n",
        "         sodipodi:nodetypes=\"csssc\" /><path\n",
        "         d=\"m 152.60023,47.583731 c 2.75944,0 4.99646,2.23702 4.99646,4.99645 0,2.75943 -2.23702,4.99645 -4.99646,4.99645 -2.75943,0 -4.99645,-2.23702 -4.99645,-4.99645 0,-2.75943 2.23702,-4.99645 4.99645,-4.99645\"\n",
        "         style=\"fill:#ff2a2a;fill-opacity:1;fill-rule:nonzero;stroke:#aa0000;stroke-width:1;stroke-linecap:butt;stroke-linejoin:miter;stroke-miterlimit:10;stroke-dasharray:none;stroke-opacity:1\"\n",
        "         id=\"path210-2-23-7\"\n",
        "         sodipodi:nodetypes=\"csssc\" /></g><path\n",
        "       d=\"m 183.54753,74.662233 c 4.05146,0 7.33589,3.284434 7.33589,7.335871 0,4.051444 -3.28443,7.335877 -7.33589,7.335877 -4.05144,0 -7.33588,-3.284433 -7.33588,-7.335877 0,-4.051437 3.28444,-7.33587 7.33588,-7.33587\"\n",
        "       style=\"fill:#79bbe7;fill-opacity:1;fill-rule:nonzero;stroke:#1b6597;stroke-width:1.46822;stroke-linecap:butt;stroke-linejoin:miter;stroke-miterlimit:10;stroke-dasharray:none;stroke-opacity:1\"\n",
        "       id=\"path210-6-2-8\"\n",
        "       sodipodi:nodetypes=\"csssc\" /><path\n",
        "       d=\"m 183.54753,109.14382 c 4.05146,0 7.33589,3.28443 7.33589,7.33588 0,4.05144 -3.28443,7.33588 -7.33589,7.33588 -4.05144,0 -7.33588,-3.28444 -7.33588,-7.33588 0,-4.05145 3.28444,-7.33588 7.33588,-7.33588\"\n",
        "       style=\"fill:#79bbe7;fill-opacity:1;fill-rule:nonzero;stroke:#1b6597;stroke-width:1.46822;stroke-linecap:butt;stroke-linejoin:miter;stroke-miterlimit:10;stroke-dasharray:none;stroke-opacity:1\"\n",
        "       id=\"path210-3-8-7-5\"\n",
        "       sodipodi:nodetypes=\"csssc\" /><path\n",
        "       d=\"m 183.54753,91.903023 c 4.05146,0 7.33589,3.284432 7.33589,7.335877 0,4.05144 -3.28443,7.33588 -7.33589,7.33588 -4.05144,0 -7.33588,-3.28444 -7.33588,-7.33588 0,-4.051445 3.28444,-7.335877 7.33588,-7.335877\"\n",
        "       style=\"fill:#79bbe7;fill-opacity:1;fill-rule:nonzero;stroke:#1b6597;stroke-width:1.46822;stroke-linecap:butt;stroke-linejoin:miter;stroke-miterlimit:10;stroke-dasharray:none;stroke-opacity:1\"\n",
        "       id=\"path210-0-1-9-9\"\n",
        "       sodipodi:nodetypes=\"csssc\" /><path\n",
        "       d=\"m 183.54753,126.38462 c 4.05146,0 7.33589,3.28443 7.33589,7.33588 0,4.05143 -3.28443,7.33586 -7.33589,7.33586 -4.05144,0 -7.33588,-3.28443 -7.33588,-7.33586 0,-4.05145 3.28444,-7.33588 7.33588,-7.33588\"\n",
        "       style=\"fill:#79bbe7;fill-opacity:1;fill-rule:nonzero;stroke:#1b6597;stroke-width:1.46822;stroke-linecap:butt;stroke-linejoin:miter;stroke-miterlimit:10;stroke-dasharray:none;stroke-opacity:1\"\n",
        "       id=\"path210-2-2-7-7\"\n",
        "       sodipodi:nodetypes=\"csssc\" /><path\n",
        "       d=\"m 183.54753,143.62539 c 4.05146,0 7.33589,3.28444 7.33589,7.33588 0,4.05144 -3.28443,7.33588 -7.33589,7.33588 -4.05144,0 -7.33588,-3.28444 -7.33588,-7.33588 0,-4.05144 3.28444,-7.33588 7.33588,-7.33588\"\n",
        "       style=\"fill:#79bbe7;fill-opacity:1;fill-rule:nonzero;stroke:#1b6597;stroke-width:1.46822;stroke-linecap:butt;stroke-linejoin:miter;stroke-miterlimit:10;stroke-dasharray:none;stroke-opacity:1\"\n",
        "       id=\"path210-3-8-4-0-9\"\n",
        "       sodipodi:nodetypes=\"csssc\" /><path\n",
        "       d=\"m 183.54753,160.86619 c 4.05146,0 7.33589,3.28443 7.33589,7.33588 0,4.05144 -3.28443,7.33587 -7.33589,7.33587 -4.05144,0 -7.33588,-3.28443 -7.33588,-7.33587 0,-4.05145 3.28444,-7.33588 7.33588,-7.33588\"\n",
        "       style=\"fill:#79bbe7;fill-opacity:1;fill-rule:nonzero;stroke:#1b6597;stroke-width:1.46822;stroke-linecap:butt;stroke-linejoin:miter;stroke-miterlimit:10;stroke-dasharray:none;stroke-opacity:1\"\n",
        "       id=\"path210-2-2-2-4-8\"\n",
        "       sodipodi:nodetypes=\"csssc\" /><g\n",
        "       id=\"g3035\"\n",
        "       transform=\"matrix(1.4682178,0,0,1.4682178,-40.502839,-12.441842)\"\n",
        "       style=\"fill:#bc5fd3;stroke:#672178\"><path\n",
        "         d=\"m 181.17523,35.841062 c 2.75944,0 4.99646,2.23702 4.99646,4.996451 0,2.75943 -2.23702,4.99645 -4.99646,4.99645 -2.75943,0 -4.99645,-2.23702 -4.99645,-4.99645 0,-2.759431 2.23702,-4.996451 4.99645,-4.996451\"\n",
        "         style=\"fill:#bc5fd3;fill-opacity:1;fill-rule:nonzero;stroke:#672178;stroke-width:1;stroke-linecap:butt;stroke-linejoin:miter;stroke-miterlimit:10;stroke-dasharray:none;stroke-opacity:1\"\n",
        "         id=\"path2725\"\n",
        "         sodipodi:nodetypes=\"csssc\" /><path\n",
        "         d=\"m 181.17523,47.583731 c 2.75944,0 4.99646,2.23702 4.99646,4.99645 0,2.75943 -2.23702,4.99645 -4.99646,4.99645 -2.75943,0 -4.99645,-2.23702 -4.99645,-4.99645 0,-2.75943 2.23702,-4.99645 4.99645,-4.99645\"\n",
        "         style=\"fill:#bc5fd3;fill-opacity:1;fill-rule:nonzero;stroke:#672178;stroke-width:1;stroke-linecap:butt;stroke-linejoin:miter;stroke-miterlimit:10;stroke-dasharray:none;stroke-opacity:1\"\n",
        "         id=\"path2727\"\n",
        "         sodipodi:nodetypes=\"csssc\" /></g><path\n",
        "       style=\"fill:none;fill-opacity:1;stroke:#4d4d4d;stroke-width:1.47253;stroke-linecap:round;stroke-linejoin:round;stroke-dasharray:none;stroke-opacity:1\"\n",
        "       d=\"m 188.8157,176.1518 c 15.43344,0.22741 5.28794,-47.91736 14.66188,-51.29436 -9.37394,-3.37701 0.77156,-51.521792 -14.66188,-51.294377\"\n",
        "       id=\"path4190-4\"\n",
        "       sodipodi:nodetypes=\"ccc\" /><path\n",
        "       style=\"fill:none;stroke:#4d4d4d;stroke-width:1.5;stroke-linecap:round;stroke-linejoin:round;marker-end:\"\n",
        "       d=\"m 208.9637,125.13021 c 15.86479,-0.4775 28.63052,5.63185 27.07731,30.14381 -1.61164,25.43429 -3.07607,65.86617 -31.84848,65.56664 -28.77241,-0.29953 -138.574259,1.23376 -169.156257,0.98649 C 19.745274,221.70352 6.043639,206.98522 4.752122,189.19846 3.460605,171.4117 3.728062,151.30483 23.858793,147.13925\"\n",
        "       id=\"path419\"\n",
        "       sodipodi:nodetypes=\"cszssc\" /><path\n",
        "       style=\"fill:none;stroke:#4d4d4d;stroke-width:1.5;stroke-linecap:round;stroke-linejoin:round\"\n",
        "       d=\"m 19.978795,153.05052 3.879998,-5.91127 -4.983727,-3.22773\"\n",
        "       id=\"path1292\"\n",
        "       sodipodi:nodetypes=\"ccc\" /></g></svg>"
      ]
    },
    {
      "attachments": {},
      "cell_type": "markdown",
      "metadata": {},
      "source": [
        "That is, a simple dense layer that takes as input the concatenation of the hiden state and the current letter, and outputs both the new hidden state and a vector of likelyhood for each country. Adding a softmax layer to the countries likelyhood turns them to actual probabilities."
      ]
    },
    {
      "attachments": {},
      "cell_type": "markdown",
      "metadata": {},
      "source": [
        "On top of the `__init__` and `forward` methods, define:\n",
        "- `init_hidden` a method that creates a zero hidden state (that we will use as a hidden state when sending the first letter)\n",
        "- `outputToCountry` to convert output probabilities to the corresponding country\n",
        "- `outputToID` to convert output probabilities to the corresponding country ID"
      ]
    },
    {
      "attachments": {},
      "cell_type": "markdown",
      "metadata": {},
      "source": [
        "Build a network with 128 hidden units."
      ]
    },
    {
      "cell_type": "code",
      "execution_count": 10,
      "metadata": {},
      "outputs": [],
      "source": [
        "class RNN(nn.Module):\n",
        "    def __init__(self, input_size, hidden_size, output_size, idx_to_country):\n",
        "        super(RNN, self).__init__()\n",
        "        self.hidden_size = hidden_size\n",
        "        self.i2h = nn.Linear(input_size + hidden_size, hidden_size)\n",
        "        self.i2o = nn.Linear(input_size + hidden_size, output_size)\n",
        "        self.softmax = nn.LogSoftmax(dim=1)\n",
        "        self.idx_to_country = idx_to_country\n",
        "\n",
        "    def forward(self, input, hidden):\n",
        "        combined = torch.cat((input, hidden), 1)\n",
        "        hidden = self.i2h(combined)\n",
        "        output = self.i2o(combined)\n",
        "        output = self.softmax(output)\n",
        "        return output, hidden\n",
        "\n",
        "    def initHidden(self):\n",
        "        return torch.zeros(1, self.hidden_size)\n",
        "    \n",
        "    def outputToCountry(self, output):\n",
        "        top_n, top_i = output.topk(1) # Tensor out of Variable with .data\n",
        "        return self.idx_to_country[top_i[0,0].item()]\n",
        "\n",
        "    def outputToID(self, output):\n",
        "        _, top_i = output.topk(1) # Tensor out of Variable with .data\n",
        "        return top_i[0,0].item()\n",
        "\n",
        "N_HIDDEN = 128\n",
        "rnn = RNN(N_LETTERS, N_HIDDEN, N_COUNTRIES, dataset.idx_to_country)"
      ]
    },
    {
      "attachments": {},
      "cell_type": "markdown",
      "metadata": {},
      "source": [
        "### Feeding the RNN"
      ]
    },
    {
      "attachments": {},
      "cell_type": "markdown",
      "metadata": {},
      "source": [
        "Feed a single letter to the network (i.e. 1 step)"
      ]
    },
    {
      "cell_type": "code",
      "execution_count": 11,
      "metadata": {},
      "outputs": [
        {
          "name": "stdout",
          "output_type": "stream",
          "text": [
            "tensor([[-2.8096, -2.9098, -2.8196, -2.8592, -2.8886, -2.9299, -2.9342, -2.9204,\n",
            "         -2.9452, -2.7741, -2.9148, -2.9354, -2.8736, -2.8787, -2.8196, -2.9107,\n",
            "         -2.9509, -2.9798]], grad_fn=<LogSoftmaxBackward0>)\n"
          ]
        }
      ],
      "source": [
        "letter_input = letterToTensor('A')\n",
        "hidden = torch.zeros(1, N_HIDDEN)\n",
        "\n",
        "output, next_hidden = rnn(letter_input, hidden)\n",
        "print(output)"
      ]
    },
    {
      "attachments": {},
      "cell_type": "markdown",
      "metadata": {},
      "source": [
        "Feed a full word to the network (i.e. multiple steps)"
      ]
    },
    {
      "cell_type": "code",
      "execution_count": 12,
      "metadata": {},
      "outputs": [
        {
          "data": {
            "text/plain": [
              "(tensor([[-2.8412, -2.9077, -2.8463, -3.0111, -2.9063, -2.8820, -2.9823, -2.9129,\n",
              "          -2.9806, -2.8058, -2.9637, -2.7021, -2.8683, -2.8515, -2.9923, -2.9074,\n",
              "          -2.8469, -2.8687]], grad_fn=<LogSoftmaxBackward0>),\n",
              " 'Korean',\n",
              " 11)"
            ]
          },
          "execution_count": 12,
          "metadata": {},
          "output_type": "execute_result"
        }
      ],
      "source": [
        "word_input = nameToTensor('Albert')\n",
        "hidden = torch.zeros(1, N_HIDDEN)\n",
        "\n",
        "for i in range(len(word_input)):\n",
        "    output, hidden = rnn(word_input[i], hidden)\n",
        "\n",
        "output, rnn.outputToCountry(output), rnn.outputToID(output)"
      ]
    },
    {
      "attachments": {},
      "cell_type": "markdown",
      "metadata": {},
      "source": [
        "### Training the network"
      ]
    },
    {
      "attachments": {},
      "cell_type": "markdown",
      "metadata": {},
      "source": [
        "Train the network; for each iteration of the training:\n",
        "- Create a zero initial hidden state\n",
        "- Feed each letter in and keep hidden state for next letter\n",
        "- Compute the loss\n",
        "- Back-propagate\n",
        "- Zero-out the gradients\n",
        "\n",
        "One configuration that is known to work (for the architecture described above):\n",
        "- Optimizer: Adam\n",
        "- Learning rate: `lr = 0.001`\n",
        "- Loss: Negative log likelihood (`NLLLoss`)\n",
        "- Epoch: No need for too many epochs (~5-10 is enough)\n",
        "\n",
        "NB: if you did not put a logSoftMax, use `CrossEntropyLoss` instead of `NLLLoss`.\n",
        "\n",
        "*(Training takes ~3min on a modern laptop.)*"
      ]
    },
    {
      "cell_type": "code",
      "execution_count": 13,
      "metadata": {},
      "outputs": [
        {
          "name": "stdout",
          "output_type": "stream",
          "text": [
            "Epoch: 1/8 (12%)\tLoss: 32067.405180\n",
            "Epoch: 2/8 (25%)\tLoss: 24806.653586\n",
            "Epoch: 3/8 (38%)\tLoss: 23034.107387\n",
            "Epoch: 4/8 (50%)\tLoss: 22065.349567\n",
            "Epoch: 5/8 (62%)\tLoss: 21447.712215\n",
            "Epoch: 6/8 (75%)\tLoss: 20925.000672\n",
            "Epoch: 7/8 (88%)\tLoss: 20502.928265\n",
            "Epoch: 8/8 (100%)\tLoss: 20254.061296\n"
          ]
        }
      ],
      "source": [
        "rnn = RNN(N_LETTERS, N_HIDDEN, N_COUNTRIES, dataset.idx_to_country)\n",
        "lr = 0.001\n",
        "optimizer = optim.Adam(rnn.parameters(), lr=lr)\n",
        "criterion = nn.NLLLoss()\n",
        "n_epochs = 8\n",
        "for epoch in range(n_epochs):\n",
        "    loss_sum = 0\n",
        "    for name, country, name_tensor, country_tensor in loader:\n",
        "        hidden = rnn.initHidden()\n",
        "        # rnn.zero_grad()\n",
        "        for i in range(name_tensor.size()[1]):\n",
        "            output, hidden = rnn(name_tensor[0][i], hidden)\n",
        "        loss = criterion(output, country_tensor[0][None])\n",
        "        loss_sum += loss.item()\n",
        "        loss.backward()\n",
        "        optimizer.step()\n",
        "        optimizer.zero_grad()\n",
        "    print(f'Epoch: {epoch+1}/{n_epochs} ({100*(epoch+1)/n_epochs:.0f}%)\\tLoss: {loss_sum:.6f}')\n"
      ]
    },
    {
      "attachments": {},
      "cell_type": "markdown",
      "metadata": {},
      "source": [
        "### Testing the network"
      ]
    },
    {
      "attachments": {},
      "cell_type": "markdown",
      "metadata": {},
      "source": [
        "**Testing should be done on a different dataset than training !!!**\n",
        "Here we use the same dataset for simplicity."
      ]
    },
    {
      "attachments": {},
      "cell_type": "markdown",
      "metadata": {},
      "source": [
        "Test on a couple of names from the dataset, display the name, the prediction, and the ground truth."
      ]
    },
    {
      "cell_type": "code",
      "execution_count": 14,
      "metadata": {},
      "outputs": [
        {
          "name": "stdout",
          "output_type": "stream",
          "text": [
            "NAME; TRUTH; PREDICTED\n",
            "Handal; Arabic; German\n",
            "Sabbagh; Arabic; German\n",
            "Maalouf; Arabic; German\n",
            "Shammas; Arabic; German\n",
            "Shamoun; Arabic; German\n",
            "Rahal; Arabic; German\n",
            "Daher; Arabic; German\n",
            "Boutros; Arabic; Czech\n",
            "Sayegh; Arabic; German\n",
            "Nader; Arabic; German\n"
          ]
        }
      ],
      "source": [
        "print(f'NAME; TRUTH; PREDICTED')\n",
        "for i in range(10):\n",
        "    name, country, name_tensor, country_tensor = dataset[i]\n",
        "    hidden = rnn.initHidden()\n",
        "    rnn.zero_grad()\n",
        "    for i in range(name_tensor.size()[1]):\n",
        "        output, hidden = rnn(name_tensor[i], hidden)\n",
        "    print(f'{name}; {country}; {rnn.outputToCountry(output)}')"
      ]
    },
    {
      "attachments": {},
      "cell_type": "markdown",
      "metadata": {},
      "source": [
        "Test on the full dataset:\n",
        "- Plot the confusion matrix\n",
        "- Compute the accuracy"
      ]
    },
    {
      "cell_type": "code",
      "execution_count": 15,
      "metadata": {},
      "outputs": [
        {
          "name": "stdout",
          "output_type": "stream",
          "text": [
            "Accuracy: 64.19%\n"
          ]
        },
        {
          "data": {
            "image/png": "[encoded data removed]",
            "text/plain": [
              "<Figure size 640x480 with 2 Axes>"
            ]
          },
          "metadata": {},
          "output_type": "display_data"
        }
      ],
      "source": [
        "import matplotlib.pyplot as plt\n",
        "import matplotlib.ticker as ticker\n",
        "\n",
        "# Confusion matrix\n",
        "confusion = torch.zeros(N_COUNTRIES, N_COUNTRIES)\n",
        "accuracy = 0\n",
        "for name, country, name_tensor, country_tensor in loader:\n",
        "    hidden = rnn.initHidden()\n",
        "    rnn.zero_grad()\n",
        "    for i in range(name_tensor.size()[1]):\n",
        "        output, hidden = rnn(name_tensor[0][i], hidden)\n",
        "    guess, guess_i = output.topk(1)\n",
        "    category_i = country_tensor[0][None]\n",
        "    confusion[category_i, guess_i] += 1\n",
        "    if category_i == guess_i:\n",
        "        accuracy += 1\n",
        "print(f'Accuracy: {100*accuracy/len(dataset):.2f}%')\n",
        "\n",
        "# Normalize by dividing every row by its sum\n",
        "for i in range(N_COUNTRIES):\n",
        "    confusion[i] = confusion[i] / confusion[i].sum()\n",
        "\n",
        "# Set up plot\n",
        "plt.imshow(confusion.numpy())\n",
        "plt.colorbar()\n",
        "plt.title('Confusion matrix')\n",
        "\n",
        "# Set up labels\n",
        "ax = plt.gca()\n",
        "positions = list(range(N_COUNTRIES))\n",
        "labels = dataset.idx_to_country\n",
        "small_labels = [label[:2] for label in labels]\n",
        "ax.xaxis.set_major_locator(ticker.FixedLocator(positions))\n",
        "ax.xaxis.set_major_formatter(ticker.FixedFormatter(small_labels))\n",
        "ax.yaxis.set_major_locator(ticker.FixedLocator(positions))\n",
        "ax.yaxis.set_major_formatter(ticker.FixedFormatter(labels))\n",
        "plt.show()"
      ]
    },
    {
      "attachments": {},
      "cell_type": "markdown",
      "metadata": {},
      "source": [
        "### Conclusion"
      ]
    },
    {
      "attachments": {},
      "cell_type": "markdown",
      "metadata": {},
      "source": [
        "Accuracy on the dataset is ~60%; this is much better than taking a random guess (which will have an accuracy of ~5.5%).\n",
        "\n",
        "You can do you own experiences to improve this result (add layers, test other layers such as LSTM or GRU, try some combinations).\n",
        "\n",
        "You can also change dataset (eg: word -> language; name -> gender; title -> newspaper; etc...)"
      ]
    },
    {
      "attachments": {},
      "cell_type": "markdown",
      "metadata": {},
      "source": [
        "This RNN exercise was inspired from the following notebook of the official PyTorch documentation:\n",
        "https://pytorch.org/tutorials/intermediate/char_rnn_classification_tutorial.html"
      ]
    }
  ],
  "metadata": {
    "colab": {
      "provenance": []
    },
    "kernelspec": {
      "display_name": "Python 3",
      "language": "python",
      "name": "python3"
    },
    "language_info": {
      "codemirror_mode": {
        "name": "ipython",
        "version": 3
      },
      "file_extension": ".py",
      "mimetype": "text/x-python",
      "name": "python",
      "nbconvert_exporter": "python",
      "pygments_lexer": "ipython3",
      "version": "3.11.4"
    },
    "vscode": {
      "interpreter": {
        "hash": "689ffbb94fe8f58a5045b4f3f0726e738a118a8a590ae859861904a2cad8ac3d"
      }
    }
  },
  "nbformat": 4,
  "nbformat_minor": 0
}
