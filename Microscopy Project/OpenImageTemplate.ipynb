{
 "cells": [
  {
   "cell_type": "markdown",
   "metadata": {},
   "source": [
    "Here is the code to open one image. Make sure to install `tifffile` beforehands."
   ]
  },
  {
   "cell_type": "code",
   "execution_count": 3,
   "metadata": {
    "ExecuteTime": {
     "end_time": "2025-01-21T20:12:44.715967Z",
     "start_time": "2025-01-21T20:12:43.937848Z"
    }
   },
   "outputs": [
    {
     "name": "stdout",
     "output_type": "stream",
     "text": [
      "Image shape angle (ZYX): (217, 793, 862)\n",
      "Image shape fused (ZYX): (217, 793, 862)\n"
     ]
    }
   ],
   "source": [
    "import tifffile\n",
    "\n",
    "file_path_angle = \"/mounts/Datasets4/DeepLearningVSE2025/image_19_membrane_angle.tif\"  # X_TRAIN (input)\n",
    "file_path_fused = \"/mounts/Datasets4/DeepLearningVSE2025/image_19_membrane_fused.tif\"  # Y_TRAIN (label)\n",
    "image_3d_angle = tifffile.imread(file_path_angle)\n",
    "image_3d_fused = tifffile.imread(file_path_fused)\n",
    "\n",
    "# Make sure the shapes of the two images are the same!!!\n",
    "image_shape_angle = image_3d_angle.shape\n",
    "image_shape_fused = image_3d_fused.shape\n",
    "print(f\"Image shape angle (ZYX): {image_shape_angle}\")\n",
    "print(f\"Image shape fused (ZYX): {image_shape_fused}\")"
   ]
  },
  {
   "cell_type": "code",
   "execution_count": null,
   "metadata": {},
   "outputs": [],
   "source": []
  }
 ],
 "metadata": {
  "kernelspec": {
   "display_name": "Python 3",
   "language": "python",
   "name": "python3"
  },
  "language_info": {
   "codemirror_mode": {
    "name": "ipython",
    "version": 3
   },
   "file_extension": ".py",
   "mimetype": "text/x-python",
   "name": "python",
   "nbconvert_exporter": "python",
   "pygments_lexer": "ipython3",
   "version": "3.12.5"
  }
 },
 "nbformat": 4,
 "nbformat_minor": 2
}
