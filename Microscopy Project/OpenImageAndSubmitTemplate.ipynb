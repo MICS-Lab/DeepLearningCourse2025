{
 "cells": [
  {
   "cell_type": "markdown",
   "metadata": {},
   "source": [
    "Here is the code to open one image. Make sure to install `tifffile` beforehands."
   ]
  },
  {
   "cell_type": "code",
   "execution_count": null,
   "metadata": {},
   "outputs": [],
   "source": [
    "import tifffile\n",
    "\n",
    "file_path_angle = \"/mounts/Datasets4/DeepLearningVSE2025/image_19_membrane_angle.tif\"  # X_TRAIN (input)\n",
    "file_path_fused = \"/mounts/Datasets4/DeepLearningVSE2025/image_19_membrane_fused.tif\"  # Y_TRAIN (label)\n",
    "image_3d_angle = tifffile.imread(file_path_angle)\n",
    "image_3d_fused = tifffile.imread(file_path_fused)\n",
    "\n",
    "# Make sure the shapes of the two images are the same!!!\n",
    "image_shape_angle = image_3d_angle.shape\n",
    "image_shape_fused = image_3d_fused.shape\n",
    "print(f\"Image shape angle (ZYX): {image_shape_angle}\")\n",
    "print(f\"Image shape fused (ZYX): {image_shape_fused}\")"
   ]
  },
  {
   "cell_type": "markdown",
   "metadata": {},
   "source": [
    "Then use `torch.tensor(image_3d_angle, dtype=torch.float32)` and `torch.tensor(image_3d_fused, dtype=torch.float32)` to have tensors."
   ]
  },
  {
   "cell_type": "code",
   "execution_count": null,
   "metadata": {},
   "outputs": [],
   "source": [
    "import torch\n",
    "\n",
    "image_3d_angle_tensor = torch.tensor(image_3d_angle, dtype=torch.float32)\n",
    "image_3d_fused_tensor = torch.tensor(image_3d_fused, dtype=torch.float32)\n",
    "\n",
    "print(f\"image_3d_angle_tensor.shape: {image_3d_angle_tensor.shape}\")\n",
    "print(f\"image_3d_fused_tensor.shape: {image_3d_fused_tensor.shape}\")"
   ]
  },
  {
   "cell_type": "markdown",
   "metadata": {},
   "source": [
    "Once you have trained your model, you will need to apply your model on the test data that only contains a `angle` image (low resolution image).\n",
    "Open those images, convert them to tensors, apply your model, and save the output tensors as pickle files. Those output tensors should have the same shape as the input tensors, and there should be one pickle file per image. The name of that pickle file should be the same as the input but with `fused` instead of `angle`.\n",
    "See below for an example."
   ]
  },
  {
   "cell_type": "code",
   "execution_count": null,
   "metadata": {},
   "outputs": [],
   "source": [
    "import pickle\n",
    "\n",
    "def my_model(x: torch.Tensor) -> torch.Tensor:\n",
    "    # here you should apply your model on the input tensor x\n",
    "    return x\n",
    "\n",
    "# Apply model\n",
    "my_prediction_image_3d_fused_tensor = my_model(image_3d_angle_tensor)\n",
    "\n",
    "# Save as pickle\n",
    "output_file_path = \"image_19_membrane_fused.tif\"\n",
    "with open(output_file_path, 'wb') as f:\n",
    "    pickle.dump(my_prediction_image_3d_fused_tensor, f)"
   ]
  },
  {
   "cell_type": "markdown",
   "metadata": {},
   "source": [
    "The test data will be available around a week or two before the deadline."
   ]
  }
 ],
 "metadata": {
  "kernelspec": {
   "display_name": "Python 3",
   "language": "python",
   "name": "python3"
  },
  "language_info": {
   "codemirror_mode": {
    "name": "ipython",
    "version": 3
   },
   "file_extension": ".py",
   "mimetype": "text/x-python",
   "name": "python",
   "nbconvert_exporter": "python",
   "pygments_lexer": "ipython3",
   "version": "3.12.5"
  }
 },
 "nbformat": 4,
 "nbformat_minor": 2
}
